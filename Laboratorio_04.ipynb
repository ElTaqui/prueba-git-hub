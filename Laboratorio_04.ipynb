{
  "nbformat": 4,
  "nbformat_minor": 0,
  "metadata": {
    "colab": {
      "provenance": []
    },
    "kernelspec": {
      "name": "python3",
      "display_name": "Python 3"
    },
    "language_info": {
      "name": "python"
    }
  },
  "cells": [
    {
      "cell_type": "markdown",
      "source": [
        "#Clasificación multiclase\n",
        "Taquichiri Huarita Luis Alexander"
      ],
      "metadata": {
        "id": "_89sGMTAhw95"
      }
    },
    {
      "cell_type": "markdown",
      "source": [
        "Importar librerías"
      ],
      "metadata": {
        "id": "O2u3mKHPh1Gh"
      }
    },
    {
      "cell_type": "code",
      "execution_count": 387,
      "metadata": {
        "id": "JoE6YgnHhtm3"
      },
      "outputs": [],
      "source": [
        "import os\n",
        "import numpy as np\n",
        "from matplotlib import pyplot\n",
        "from scipy import optimize\n",
        "\n",
        "%matplotlib inline"
      ]
    },
    {
      "cell_type": "markdown",
      "source": [
        "Cargar y revisar el data set\n"
      ],
      "metadata": {
        "id": "EFDYBJiMh_i8"
      }
    },
    {
      "cell_type": "code",
      "source": [
        "from google.colab import drive\n",
        "drive.mount('/content/drive')"
      ],
      "metadata": {
        "colab": {
          "base_uri": "https://localhost:8080/"
        },
        "id": "XVO94NJdh9z_",
        "outputId": "7a5cf539-084a-41af-985a-f943124845d2"
      },
      "execution_count": 388,
      "outputs": [
        {
          "output_type": "stream",
          "name": "stdout",
          "text": [
            "Drive already mounted at /content/drive; to attempt to forcibly remount, call drive.mount(\"/content/drive\", force_remount=True).\n"
          ]
        }
      ]
    },
    {
      "cell_type": "code",
      "source": [
        "import pandas as pd\n",
        "data = pd.read_csv('/content/drive/MyDrive/machine learning/datasets/Player_Attributes.csv', delimiter=',', decimal='.')\n",
        "data = data.dropna()\n",
        "data.info()"
      ],
      "metadata": {
        "colab": {
          "base_uri": "https://localhost:8080/"
        },
        "id": "KRg-cE_SiD0U",
        "outputId": "e5786c05-2382-4409-b29e-7d4d89bb2bb2"
      },
      "execution_count": 389,
      "outputs": [
        {
          "output_type": "stream",
          "name": "stdout",
          "text": [
            "<class 'pandas.core.frame.DataFrame'>\n",
            "Index: 177037 entries, 0 to 183977\n",
            "Data columns (total 42 columns):\n",
            " #   Column               Non-Null Count   Dtype  \n",
            "---  ------               --------------   -----  \n",
            " 0   id                   177037 non-null  int64  \n",
            " 1   player_fifa_api_id   177037 non-null  int64  \n",
            " 2   player_api_id        177037 non-null  int64  \n",
            " 3   date                 177037 non-null  object \n",
            " 4   overall_rating       177037 non-null  float64\n",
            " 5   potential            177037 non-null  float64\n",
            " 6   preferred_foot       177037 non-null  object \n",
            " 7   attacking_work_rate  177037 non-null  object \n",
            " 8   defensive_work_rate  177037 non-null  object \n",
            " 9   crossing             177037 non-null  float64\n",
            " 10  finishing            177037 non-null  float64\n",
            " 11  heading_accuracy     177037 non-null  float64\n",
            " 12  short_passing        177037 non-null  float64\n",
            " 13  volleys              177037 non-null  float64\n",
            " 14  dribbling            177037 non-null  float64\n",
            " 15  curve                177037 non-null  float64\n",
            " 16  free_kick_accuracy   177037 non-null  float64\n",
            " 17  long_passing         177037 non-null  float64\n",
            " 18  ball_control         177037 non-null  float64\n",
            " 19  acceleration         177037 non-null  float64\n",
            " 20  sprint_speed         177037 non-null  float64\n",
            " 21  agility              177037 non-null  float64\n",
            " 22  reactions            177037 non-null  float64\n",
            " 23  balance              177037 non-null  float64\n",
            " 24  shot_power           177037 non-null  float64\n",
            " 25  jumping              177037 non-null  float64\n",
            " 26  stamina              177037 non-null  float64\n",
            " 27  strength             177037 non-null  float64\n",
            " 28  long_shots           177037 non-null  float64\n",
            " 29  aggression           177037 non-null  float64\n",
            " 30  interceptions        177037 non-null  float64\n",
            " 31  positioning          177037 non-null  float64\n",
            " 32  vision               177037 non-null  float64\n",
            " 33  penalties            177037 non-null  float64\n",
            " 34  marking              177037 non-null  float64\n",
            " 35  standing_tackle      177037 non-null  float64\n",
            " 36  sliding_tackle       177037 non-null  float64\n",
            " 37  gk_diving            177037 non-null  float64\n",
            " 38  gk_handling          177037 non-null  float64\n",
            " 39  gk_kicking           177037 non-null  float64\n",
            " 40  gk_positioning       177037 non-null  float64\n",
            " 41  gk_reflexes          177037 non-null  float64\n",
            "dtypes: float64(35), int64(3), object(4)\n",
            "memory usage: 58.1+ MB\n"
          ]
        }
      ]
    },
    {
      "cell_type": "markdown",
      "source": [
        "Cargamos las variables x, y y m demás de tomar datos del mismo data set para predicciones"
      ],
      "metadata": {
        "id": "5Iaqq1u5iivj"
      }
    },
    {
      "cell_type": "code",
      "source": [
        "X = data.iloc[:16000, [5,9,10,11,12,13,14,15,16,17]]\n",
        "y = data.iloc[:16000, 4]\n",
        "m = y.size\n",
        "\n",
        "X_predic = data.iloc[16000:20000, [5,9,10,11,12,13,14,15,16,17]]\n",
        "y_predic = data.iloc[16000:20000, 4]\n",
        "m_predic = y_predic.size\n",
        "\n",
        "num_labels = 4\n",
        "J_history = []"
      ],
      "metadata": {
        "id": "JaEwcCrRif_D"
      },
      "execution_count": 390,
      "outputs": []
    },
    {
      "cell_type": "markdown",
      "source": [
        "Convertir los datos de y en clases (0,1,2,3)\n",
        "0 = 0-25; 1=25.1-50; 2=50.1-75; 3=75.1-100\n",
        "0=mal jugador 1=jugador medio 2=jugador bueno 3=muy buen jugador"
      ],
      "metadata": {
        "id": "E-B_2f_kilj0"
      }
    },
    {
      "cell_type": "code",
      "source": [
        "import numpy as np\n",
        "def convertir_clases(y):\n",
        "  m = y.size\n",
        "  aux_y = np.zeros(m)\n",
        "  for i in range(m):\n",
        "    if y.iloc[i] <= 25:\n",
        "      aux_y[i] = 0\n",
        "    elif y.iloc[i] <= 50:\n",
        "      aux_y[i] = 1\n",
        "    elif y.iloc[i] <= 75:\n",
        "      aux_y[i] = 2\n",
        "    else:\n",
        "      aux_y[i] = 3\n",
        "  return aux_y"
      ],
      "metadata": {
        "id": "EEb83waUivr2"
      },
      "execution_count": 391,
      "outputs": []
    },
    {
      "cell_type": "code",
      "source": [
        "print(y)\n",
        "y = convertir_clases(y)\n",
        "y_predic = convertir_clases(y_predic)\n",
        "print(y)\n",
        "print(y_predic)"
      ],
      "metadata": {
        "colab": {
          "base_uri": "https://localhost:8080/"
        },
        "id": "hJStXaqvlOJs",
        "outputId": "204a0e2f-002b-4462-d83e-8f1580e951a9"
      },
      "execution_count": 392,
      "outputs": [
        {
          "output_type": "stream",
          "name": "stdout",
          "text": [
            "0        67.0\n",
            "1        67.0\n",
            "2        62.0\n",
            "3        61.0\n",
            "4        61.0\n",
            "         ... \n",
            "16466    88.0\n",
            "16467    88.0\n",
            "16468    88.0\n",
            "16469    88.0\n",
            "16470    88.0\n",
            "Name: overall_rating, Length: 16000, dtype: float64\n",
            "[2. 2. 2. ... 3. 3. 3.]\n",
            "[3. 3. 3. ... 2. 2. 2.]\n"
          ]
        }
      ]
    },
    {
      "cell_type": "markdown",
      "source": [
        "Funcion que normaliza los datos"
      ],
      "metadata": {
        "id": "KG0_WGGcmc88"
      }
    },
    {
      "cell_type": "code",
      "source": [
        "def  featureNormalize(X):\n",
        "    X_norm = X.copy()\n",
        "    mu = np.zeros(X.shape[1])\n",
        "    sigma = np.zeros(X.shape[1])\n",
        "\n",
        "    mu = np.mean(X, axis = 0)\n",
        "    sigma = np.std(X, axis = 0)\n",
        "    X_norm = (X - mu) / sigma\n",
        "\n",
        "    return X_norm, mu, sigma"
      ],
      "metadata": {
        "id": "yPLt_YrWmnyB"
      },
      "execution_count": 393,
      "outputs": []
    },
    {
      "cell_type": "markdown",
      "source": [
        "Normalización"
      ],
      "metadata": {
        "id": "BYn91FTpmsei"
      }
    },
    {
      "cell_type": "code",
      "source": [
        "X_norm, mu, sigma = featureNormalize(X)\n",
        "X_predic_norm, mu_predic, sigma_predic = featureNormalize(X_predic)"
      ],
      "metadata": {
        "id": "0Goj6vNdmuQw"
      },
      "execution_count": 394,
      "outputs": []
    },
    {
      "cell_type": "markdown",
      "source": [
        "Función zigmoide"
      ],
      "metadata": {
        "id": "8TC3bFnGm8jc"
      }
    },
    {
      "cell_type": "code",
      "source": [
        "def sigmoid(z):\n",
        "    return 1.0 / (1.0 + np.exp(-z))"
      ],
      "metadata": {
        "id": "9v91tPfUm5gG"
      },
      "execution_count": 395,
      "outputs": []
    },
    {
      "cell_type": "markdown",
      "source": [
        "Concatenamos el x0 para los datos de entrenamiento y los datos de prueba"
      ],
      "metadata": {
        "id": "uVs9_-8pnylv"
      }
    },
    {
      "cell_type": "code",
      "source": [
        "X = np.concatenate([np.ones((m, 1)), X_norm], axis=1)\n",
        "X_predic = np.concatenate([np.ones((m_predic, 1)), X_predic_norm], axis=1)"
      ],
      "metadata": {
        "id": "nSAYez7bnz-P"
      },
      "execution_count": 396,
      "outputs": []
    },
    {
      "cell_type": "markdown",
      "source": [
        "Funcion que calcula el costo y las thetas con el modelo de regresion logistica"
      ],
      "metadata": {
        "id": "Ydod0nFLpZAG"
      }
    },
    {
      "cell_type": "code",
      "source": [
        "def lrCostFunction(theta, X, y, lambda_):\n",
        "\n",
        "    if y.dtype == bool:\n",
        "        y = y.astype(int)\n",
        "\n",
        "    J = 0\n",
        "    m = y.size\n",
        "    grad = np.zeros(theta.shape)\n",
        "\n",
        "    h = sigmoid(X.dot(theta.T))\n",
        "\n",
        "    temp = theta\n",
        "    temp[0] = 0\n",
        "\n",
        "    J = (1 / m) * np.sum(-y.dot(np.log(h)) - (1 - y).dot(np.log(1 - h))) + (lambda_ / (2 * m)) * np.sum(np.square(temp))\n",
        "    J_history.append(J)\n",
        "\n",
        "    grad = (1 / m) * (h - y).dot(X)\n",
        "    grad = grad + (lambda_ / m) * temp\n",
        "\n",
        "    return J , grad"
      ],
      "metadata": {
        "id": "CuM1V805pbq9"
      },
      "execution_count": 397,
      "outputs": []
    },
    {
      "cell_type": "markdown",
      "source": [
        "Funcion para calcular todas las thetas es decir las diferentes thetas para cada clase"
      ],
      "metadata": {
        "id": "WYRO7NdysQ8f"
      }
    },
    {
      "cell_type": "code",
      "source": [
        "def oneVsAll(X, y, num_labels, lambda_):\n",
        "\n",
        "    m, n = X.shape\n",
        "\n",
        "    all_theta = np.zeros((num_labels, n))\n",
        "\n",
        "    for c in np.arange(num_labels):\n",
        "        J_history = []\n",
        "        initial_theta = np.zeros(n)\n",
        "        options = {'maxiter': 100000}\n",
        "        res = optimize.minimize(lrCostFunction,\n",
        "                                initial_theta,\n",
        "                                (X, (y == c), lambda_),\n",
        "                                jac=True,\n",
        "                                method='CG',\n",
        "                                options=options)\n",
        "        all_theta[c] = res.x\n",
        "    return all_theta"
      ],
      "metadata": {
        "id": "2heLOuRlsb5i"
      },
      "execution_count": 398,
      "outputs": []
    },
    {
      "cell_type": "markdown",
      "source": [
        "Calculo de las thetas y grafica, la cual cada pico representa el descenso del costo para cada clase"
      ],
      "metadata": {
        "id": "267QX1oPz1AC"
      }
    },
    {
      "cell_type": "code",
      "source": [
        "lambda_ = 0.003\n",
        "all_theta = oneVsAll(X, y, num_labels, lambda_)\n",
        "print(all_theta.shape)\n",
        "\n",
        "pyplot.plot(np.arange(len(J_history)), J_history, lw=2)\n",
        "pyplot.xlabel('Numero de iteraciones')\n",
        "pyplot.ylabel('Costo J')"
      ],
      "metadata": {
        "colab": {
          "base_uri": "https://localhost:8080/",
          "height": 484
        },
        "id": "3zZiemY5z9AC",
        "outputId": "764cfdc1-f68e-4bb3-cbe8-0018fe9b65b9"
      },
      "execution_count": 399,
      "outputs": [
        {
          "output_type": "stream",
          "name": "stdout",
          "text": [
            "(4, 11)\n"
          ]
        },
        {
          "output_type": "execute_result",
          "data": {
            "text/plain": [
              "Text(0, 0.5, 'Costo J')"
            ]
          },
          "metadata": {},
          "execution_count": 399
        },
        {
          "output_type": "display_data",
          "data": {
            "text/plain": [
              "<Figure size 640x480 with 1 Axes>"
            ],
            "image/png": "[encoded data removed]"
          },
          "metadata": {}
        }
      ]
    },
    {
      "cell_type": "code",
      "source": [
        "print(all_theta)"
      ],
      "metadata": {
        "colab": {
          "base_uri": "https://localhost:8080/"
        },
        "id": "9RkryUPj0rlw",
        "outputId": "275bb0d2-bca8-487e-e2f2-1194ab3e6878"
      },
      "execution_count": 400,
      "outputs": [
        {
          "output_type": "stream",
          "name": "stdout",
          "text": [
            "[[-1.24380805e+01 -1.61012321e-10 -2.81786038e-10 -2.60625544e-10\n",
            "  -1.48462564e-10 -2.93600555e-10 -2.76178290e-10 -3.02159417e-10\n",
            "  -2.91073232e-10 -2.76045700e-10 -2.40930453e-10]\n",
            " [-7.07562362e+00 -2.01316676e+00 -4.26234024e-01 -2.69022532e-01\n",
            "  -4.54027815e-01  2.84733070e-01  3.35176902e-01 -5.29354816e-01\n",
            "   4.27662943e-01  2.15537278e-01 -3.45858234e-01]\n",
            " [ 2.33840285e+00 -1.81037671e+00 -1.66441186e-01 -6.49430865e-02\n",
            "  -7.57541881e-02 -1.13521259e-01 -4.65376065e-01  9.13873873e-01\n",
            "  -3.15172187e-01  2.01951393e-02 -2.92923958e-01]\n",
            " [-3.29535868e+00  2.72034087e+00  2.53240908e-01  1.33759345e-01\n",
            "   2.42526024e-01  2.96979164e-01  4.41832914e-01 -1.10188404e+00\n",
            "   3.60527517e-01 -6.47201068e-02  4.24225190e-01]]\n"
          ]
        }
      ]
    },
    {
      "cell_type": "markdown",
      "source": [
        "Predicción One vs All"
      ],
      "metadata": {
        "id": "sKOZZg8901wN"
      }
    },
    {
      "cell_type": "code",
      "source": [
        "def predictOneVsAll(all_theta, X):\n",
        "    m = X.shape[0];\n",
        "    num_labels = all_theta.shape[0]\n",
        "\n",
        "    p = np.zeros(m)\n",
        "    p = np.argmax(sigmoid(X.dot(all_theta.T)), axis = 1)\n",
        "    return p"
      ],
      "metadata": {
        "id": "PgWyucM707_h"
      },
      "execution_count": 401,
      "outputs": []
    },
    {
      "cell_type": "markdown",
      "source": [
        "Calculamos la efectividad con el mismo data set"
      ],
      "metadata": {
        "id": "T6ZMFLL11YEh"
      }
    },
    {
      "cell_type": "code",
      "source": [
        "pred = predictOneVsAll(all_theta, X)\n",
        "print('Precision del conjuto de entrenamiento: {:.2f}%'.format(np.mean(pred == y) * 100))\n",
        "print(\"------------------------------------------------------------------------\")\n",
        "print(\"Datos comparados:\")\n",
        "print(pred[:100])\n",
        "print(y[:100])"
      ],
      "metadata": {
        "colab": {
          "base_uri": "https://localhost:8080/"
        },
        "id": "XdfZVAYm1bDb",
        "outputId": "da378d4a-a239-474e-90de-15a1bdd4b71c"
      },
      "execution_count": 402,
      "outputs": [
        {
          "output_type": "stream",
          "name": "stdout",
          "text": [
            "Precision del conjuto de entrenamiento: 87.82%\n",
            "------------------------------------------------------------------------\n",
            "Datos comparados:\n",
            "[2 2 2 2 2 2 2 2 2 2 2 2 2 2 2 2 2 2 2 2 2 2 2 2 2 2 2 2 2 2 2 2 2 2 2 2 2\n",
            " 2 2 2 2 2 2 2 2 2 2 2 2 2 2 2 2 2 2 2 2 2 2 2 2 2 2 2 2 2 2 2 2 2 2 2 2 2\n",
            " 2 2 2 2 2 2 2 2 2 3 3 2 2 2 2 2 2 2 2 2 2 2 2 2 2 2]\n",
            "[2. 2. 2. 2. 2. 2. 2. 2. 2. 2. 2. 2. 2. 2. 2. 2. 2. 2. 2. 2. 2. 2. 2. 2.\n",
            " 2. 2. 2. 2. 2. 2. 2. 2. 2. 2. 2. 1. 2. 2. 2. 2. 2. 2. 2. 2. 2. 2. 2. 2.\n",
            " 2. 2. 2. 2. 2. 2. 2. 2. 2. 2. 2. 2. 2. 2. 2. 2. 2. 2. 2. 2. 2. 2. 2. 2.\n",
            " 2. 2. 2. 2. 2. 2. 2. 2. 2. 2. 2. 2. 2. 2. 2. 2. 2. 2. 2. 2. 2. 2. 2. 2.\n",
            " 2. 2. 2. 2.]\n"
          ]
        }
      ]
    },
    {
      "cell_type": "markdown",
      "source": [
        "Prueba de efectividad con los datos de Prueba"
      ],
      "metadata": {
        "id": "FyTRW2i315UI"
      }
    },
    {
      "cell_type": "code",
      "source": [
        "pred_prueba = predictOneVsAll(all_theta, X_predic)\n",
        "print('Precision del conjuto de entrenamiento: {:.2f}%'.format(np.mean(pred_prueba == y_predic) * 100))\n",
        "print(\"------------------------------------------------------------------------\")\n",
        "print(\"Datos comparados:\")\n",
        "print(pred_prueba[:100])\n",
        "print(y_predic[:100])"
      ],
      "metadata": {
        "colab": {
          "base_uri": "https://localhost:8080/"
        },
        "id": "Z6VVS91a19Uu",
        "outputId": "9b78fe56-ab1d-4dde-f8b5-8e20ccfba628"
      },
      "execution_count": 403,
      "outputs": [
        {
          "output_type": "stream",
          "name": "stdout",
          "text": [
            "Precision del conjuto de entrenamiento: 87.85%\n",
            "------------------------------------------------------------------------\n",
            "Datos comparados:\n",
            "[3 3 3 3 3 3 3 3 3 3 3 3 3 3 2 2 2 2 2 2 2 2 2 2 2 2 2 2 2 2 2 2 2 2 2 2 2\n",
            " 2 2 2 2 2 2 2 2 2 3 3 3 3 3 3 3 3 3 3 3 3 3 3 3 3 3 2 2 2 2 2 2 2 2 2 2 2\n",
            " 2 2 2 2 2 2 2 2 2 2 2 2 2 2 2 2 2 2 2 2 2 2 2 2 2 2]\n",
            "[3. 3. 3. 3. 3. 3. 3. 3. 3. 3. 3. 3. 3. 3. 2. 2. 2. 2. 2. 2. 2. 2. 2. 2.\n",
            " 2. 2. 2. 2. 2. 2. 2. 2. 2. 2. 2. 2. 2. 2. 2. 2. 2. 2. 2. 2. 2. 2. 3. 3.\n",
            " 3. 3. 2. 2. 2. 2. 2. 2. 2. 2. 2. 2. 2. 2. 2. 2. 2. 2. 2. 2. 2. 2. 2. 2.\n",
            " 2. 2. 2. 2. 2. 2. 2. 2. 2. 2. 2. 2. 2. 1. 1. 1. 2. 2. 2. 2. 2. 2. 2. 2.\n",
            " 2. 2. 2. 2.]\n"
          ]
        }
      ]
    }
  ]
}