{
  "nbformat": 4,
  "nbformat_minor": 0,
  "metadata": {
    "colab": {
      "provenance": [],
      "authorship_tag": "ABX9TyPTK6zaSrCcNYfXb8TVkd/W",
      "include_colab_link": true
    },
    "kernelspec": {
      "name": "python3",
      "display_name": "Python 3"
    },
    "language_info": {
      "name": "python"
    }
  },
  "cells": [
    {
      "cell_type": "markdown",
      "metadata": {
        "id": "view-in-github",
        "colab_type": "text"
      },
      "source": [
        "<a href=\"https://colab.research.google.com/github/ElTaqui/prueba-git-hub/blob/main/Laboratorio_02.ipynb\" target=\"_parent\"><img src=\"https://colab.research.google.com/assets/colab-badge.svg\" alt=\"Open In Colab\"/></a>"
      ]
    },
    {
      "cell_type": "markdown",
      "source": [
        "Importación de Librerías"
      ],
      "metadata": {
        "id": "Q9o40rZGdZEe"
      }
    },
    {
      "cell_type": "code",
      "execution_count": null,
      "metadata": {
        "id": "tR2gTA9vdD6g"
      },
      "outputs": [],
      "source": [
        "import os\n",
        "import numpy as np\n",
        "from matplotlib import pyplot\n",
        "%matplotlib inline\n",
        "import pandas as pd\n"
      ]
    },
    {
      "cell_type": "markdown",
      "source": [
        "#Regresión Multivariable"
      ],
      "metadata": {
        "id": "7rIJOV7Vdewx"
      }
    },
    {
      "cell_type": "markdown",
      "source": [
        "Importación de DataSet de Google Drive, limpieza del dataset y visualización de datos"
      ],
      "metadata": {
        "id": "B2a2sE8WeLOU"
      }
    },
    {
      "cell_type": "code",
      "source": [
        "from google.colab import drive\n",
        "drive.mount(\"/content/drive\")\n",
        "import pandas as pd\n",
        "data = pd.read_csv('/content/drive/MyDrive/machine learning/datasets/Player_Attributes.csv', delimiter=',')\n",
        "data = data.dropna()\n",
        "data.info()"
      ],
      "metadata": {
        "colab": {
          "base_uri": "https://localhost:8080/"
        },
        "id": "tq8NDyJ7dpUC",
        "outputId": "9fcd75a5-e2ef-4eb9-ce3f-84642e4dd349"
      },
      "execution_count": null,
      "outputs": [
        {
          "output_type": "stream",
          "name": "stdout",
          "text": [
            "Drive already mounted at /content/drive; to attempt to forcibly remount, call drive.mount(\"/content/drive\", force_remount=True).\n",
            "<class 'pandas.core.frame.DataFrame'>\n",
            "Index: 177037 entries, 0 to 183977\n",
            "Data columns (total 42 columns):\n",
            " #   Column               Non-Null Count   Dtype  \n",
            "---  ------               --------------   -----  \n",
            " 0   id                   177037 non-null  int64  \n",
            " 1   player_fifa_api_id   177037 non-null  int64  \n",
            " 2   player_api_id        177037 non-null  int64  \n",
            " 3   date                 177037 non-null  object \n",
            " 4   overall_rating       177037 non-null  float64\n",
            " 5   potential            177037 non-null  float64\n",
            " 6   preferred_foot       177037 non-null  object \n",
            " 7   attacking_work_rate  177037 non-null  object \n",
            " 8   defensive_work_rate  177037 non-null  object \n",
            " 9   crossing             177037 non-null  float64\n",
            " 10  finishing            177037 non-null  float64\n",
            " 11  heading_accuracy     177037 non-null  float64\n",
            " 12  short_passing        177037 non-null  float64\n",
            " 13  volleys              177037 non-null  float64\n",
            " 14  dribbling            177037 non-null  float64\n",
            " 15  curve                177037 non-null  float64\n",
            " 16  free_kick_accuracy   177037 non-null  float64\n",
            " 17  long_passing         177037 non-null  float64\n",
            " 18  ball_control         177037 non-null  float64\n",
            " 19  acceleration         177037 non-null  float64\n",
            " 20  sprint_speed         177037 non-null  float64\n",
            " 21  agility              177037 non-null  float64\n",
            " 22  reactions            177037 non-null  float64\n",
            " 23  balance              177037 non-null  float64\n",
            " 24  shot_power           177037 non-null  float64\n",
            " 25  jumping              177037 non-null  float64\n",
            " 26  stamina              177037 non-null  float64\n",
            " 27  strength             177037 non-null  float64\n",
            " 28  long_shots           177037 non-null  float64\n",
            " 29  aggression           177037 non-null  float64\n",
            " 30  interceptions        177037 non-null  float64\n",
            " 31  positioning          177037 non-null  float64\n",
            " 32  vision               177037 non-null  float64\n",
            " 33  penalties            177037 non-null  float64\n",
            " 34  marking              177037 non-null  float64\n",
            " 35  standing_tackle      177037 non-null  float64\n",
            " 36  sliding_tackle       177037 non-null  float64\n",
            " 37  gk_diving            177037 non-null  float64\n",
            " 38  gk_handling          177037 non-null  float64\n",
            " 39  gk_kicking           177037 non-null  float64\n",
            " 40  gk_positioning       177037 non-null  float64\n",
            " 41  gk_reflexes          177037 non-null  float64\n",
            "dtypes: float64(35), int64(3), object(4)\n",
            "memory usage: 58.1+ MB\n"
          ]
        }
      ]
    },
    {
      "cell_type": "markdown",
      "source": [
        "Cargamos las variables x, y y m demás de tomar datos del mismo data set para predicciones"
      ],
      "metadata": {
        "id": "OyfnqFCLedY4"
      }
    },
    {
      "cell_type": "code",
      "source": [
        "X = data.iloc[:15000, [5,9,10,11,12,13,14,15,16,17]]\n",
        "y = data.iloc[:15000, 4]\n",
        "m = y.size\n",
        "\n",
        "X_predic = data.iloc[15000:15100, [5,9,10,11,12,13,14,15,16,17]]\n",
        "y_predic = data.iloc[15000:15100, 4]\n",
        "m_predic = y_predic.size"
      ],
      "metadata": {
        "id": "dY2rxjFqdpKs"
      },
      "execution_count": null,
      "outputs": []
    },
    {
      "cell_type": "markdown",
      "source": [
        "Visualización de datos"
      ],
      "metadata": {
        "id": "bw5hMzDkfw23"
      }
    },
    {
      "cell_type": "code",
      "source": [
        "print(X)\n",
        "print('------------------------------------------------------------------------------')\n",
        "print(y)\n",
        "print(m)\n",
        "print('------------------------------------------------------------------------------')\n",
        "print('------------------------------------------------------------------------------')\n",
        "print(X_predic)\n",
        "print('------------------------------------------------------------------------------')\n",
        "print(y_predic)\n",
        "print(m_predic)"
      ],
      "metadata": {
        "colab": {
          "base_uri": "https://localhost:8080/"
        },
        "id": "7uAXOm3RfSef",
        "outputId": "dbf64f46-0794-4dc3-bd1a-8d2dfa45534b"
      },
      "execution_count": null,
      "outputs": [
        {
          "output_type": "stream",
          "name": "stdout",
          "text": [
            "       potential  crossing  finishing  heading_accuracy  short_passing  \\\n",
            "0           71.0      49.0       44.0              71.0           61.0   \n",
            "1           71.0      49.0       44.0              71.0           61.0   \n",
            "2           66.0      49.0       44.0              71.0           61.0   \n",
            "3           65.0      48.0       43.0              70.0           60.0   \n",
            "4           65.0      48.0       43.0              70.0           60.0   \n",
            "...          ...       ...        ...               ...            ...   \n",
            "15421       77.0      54.0       37.0              42.0           80.0   \n",
            "15422       74.0      53.0       36.0              41.0           80.0   \n",
            "15423       73.0      40.0       32.0              40.0           72.0   \n",
            "15424       76.0      40.0       32.0              40.0           72.0   \n",
            "15425       76.0      40.0       32.0              40.0           72.0   \n",
            "\n",
            "       volleys  dribbling  curve  free_kick_accuracy  long_passing  \n",
            "0         44.0       51.0   45.0                39.0          64.0  \n",
            "1         44.0       51.0   45.0                39.0          64.0  \n",
            "2         44.0       51.0   45.0                39.0          64.0  \n",
            "3         43.0       50.0   44.0                38.0          63.0  \n",
            "4         43.0       50.0   44.0                38.0          63.0  \n",
            "...        ...        ...    ...                 ...           ...  \n",
            "15421     42.0       61.0   64.0                42.0          67.0  \n",
            "15422     41.0       57.0   63.0                41.0          71.0  \n",
            "15423     40.0       53.0   62.0                40.0          65.0  \n",
            "15424     40.0       53.0   62.0                40.0          65.0  \n",
            "15425     40.0       53.0   62.0                40.0          65.0  \n",
            "\n",
            "[15000 rows x 10 columns]\n",
            "------------------------------------------------------------------------------\n",
            "0        67.0\n",
            "1        67.0\n",
            "2        62.0\n",
            "3        61.0\n",
            "4        61.0\n",
            "         ... \n",
            "15421    67.0\n",
            "15422    64.0\n",
            "15423    59.0\n",
            "15424    59.0\n",
            "15425    59.0\n",
            "Name: overall_rating, Length: 15000, dtype: float64\n",
            "15000\n",
            "------------------------------------------------------------------------------\n",
            "------------------------------------------------------------------------------\n",
            "       potential  crossing  finishing  heading_accuracy  short_passing  \\\n",
            "15426       69.0      72.0       55.0              47.0           75.0   \n",
            "15427       69.0      72.0       55.0              47.0           75.0   \n",
            "15428       69.0      72.0       55.0              47.0           75.0   \n",
            "15429       70.0      74.0       55.0              47.0           75.0   \n",
            "15430       72.0      74.0       55.0              47.0           81.0   \n",
            "...          ...       ...        ...               ...            ...   \n",
            "15521       75.0      22.0       22.0              27.0           32.0   \n",
            "15522       75.0      22.0       22.0              27.0           32.0   \n",
            "15523       75.0      25.0       24.0              27.0           32.0   \n",
            "15524       69.0      13.0       10.0              10.0           11.0   \n",
            "15525       69.0      13.0       10.0              10.0           11.0   \n",
            "\n",
            "       volleys  dribbling  curve  free_kick_accuracy  long_passing  \n",
            "15426     71.0       72.0   85.0                79.0          74.0  \n",
            "15427     71.0       72.0   85.0                79.0          74.0  \n",
            "15428     71.0       72.0   85.0                79.0          74.0  \n",
            "15429     71.0       73.0   85.0                83.0          74.0  \n",
            "15430     71.0       75.0   85.0                86.0          75.0  \n",
            "...        ...        ...    ...                 ...           ...  \n",
            "15521      9.0       22.0   25.0                 8.0          69.0  \n",
            "15522      9.0       22.0   25.0                 8.0          69.0  \n",
            "15523      9.0       24.0   25.0                53.0          69.0  \n",
            "15524     11.0       19.0   16.0                12.0          11.0  \n",
            "15525     11.0       19.0   16.0                12.0          11.0  \n",
            "\n",
            "[100 rows x 10 columns]\n",
            "------------------------------------------------------------------------------\n",
            "15426    69.0\n",
            "15427    69.0\n",
            "15428    69.0\n",
            "15429    70.0\n",
            "15430    72.0\n",
            "         ... \n",
            "15521    69.0\n",
            "15522    74.0\n",
            "15523    74.0\n",
            "15524    65.0\n",
            "15525    65.0\n",
            "Name: overall_rating, Length: 100, dtype: float64\n",
            "100\n"
          ]
        }
      ]
    },
    {
      "cell_type": "markdown",
      "source": [
        "Funcion para sacar X nomalizada, mu(Media calculada), sigma(desviación estandar)"
      ],
      "metadata": {
        "id": "71Rl-bnegAvz"
      }
    },
    {
      "cell_type": "code",
      "source": [
        "def  featureNormalize(X):\n",
        "    X_norm = X.copy()\n",
        "    mu = np.zeros(X.shape[1])\n",
        "    sigma = np.zeros(X.shape[1])\n",
        "    mu = np.mean(X, axis = 0)\n",
        "    sigma = np.std(X, axis = 0)\n",
        "    X_norm = (X - mu) / sigma\n",
        "\n",
        "    return X_norm, mu, sigma"
      ],
      "metadata": {
        "id": "NvwtEYOEf0a3"
      },
      "execution_count": null,
      "outputs": []
    },
    {
      "cell_type": "markdown",
      "source": [
        "Mostramos media, desviación estandar y X normalizada"
      ],
      "metadata": {
        "id": "XRsF805nggaF"
      }
    },
    {
      "cell_type": "code",
      "source": [
        "X_norm, mu, sigma = featureNormalize(X)\n",
        "\n",
        "print('Media calculada:\\n', mu)\n",
        "print('Desviación estandar calculada:\\n', sigma)\n",
        "print(X_norm)"
      ],
      "metadata": {
        "colab": {
          "base_uri": "https://localhost:8080/"
        },
        "id": "-_EvGrU8geXG",
        "outputId": "dbee2f8b-fe32-4c0f-845f-9ff6bb3e15ec"
      },
      "execution_count": null,
      "outputs": [
        {
          "output_type": "stream",
          "name": "stdout",
          "text": [
            "Media calculada:\n",
            " potential             73.931467\n",
            "crossing              55.756800\n",
            "finishing             50.803533\n",
            "heading_accuracy      57.063733\n",
            "short_passing         63.068067\n",
            "volleys               50.283200\n",
            "dribbling             60.495000\n",
            "curve                 54.409933\n",
            "free_kick_accuracy    50.329867\n",
            "long_passing          57.490400\n",
            "dtype: float64\n",
            "Desviación estandar calculada:\n",
            " potential              6.673038\n",
            "crossing              17.190569\n",
            "finishing             18.895562\n",
            "heading_accuracy      15.814881\n",
            "short_passing         14.198464\n",
            "volleys               17.972789\n",
            "dribbling             17.611855\n",
            "curve                 18.122918\n",
            "free_kick_accuracy    17.632016\n",
            "long_passing          14.328304\n",
            "dtype: float64\n",
            "       potential  crossing  finishing  heading_accuracy  short_passing  \\\n",
            "0      -0.439300 -0.393053  -0.360060          0.881212      -0.145654   \n",
            "1      -0.439300 -0.393053  -0.360060          0.881212      -0.145654   \n",
            "2      -1.188584 -0.393053  -0.360060          0.881212      -0.145654   \n",
            "3      -1.338441 -0.451224  -0.412982          0.817981      -0.216084   \n",
            "4      -1.338441 -0.451224  -0.412982          0.817981      -0.216084   \n",
            "...          ...       ...        ...               ...            ...   \n",
            "15421   0.459841 -0.102196  -0.730517         -0.952504       1.192519   \n",
            "15422   0.010270 -0.160367  -0.783440         -1.015735       1.192519   \n",
            "15423  -0.139587 -0.916596  -0.995130         -1.078967       0.629077   \n",
            "15424   0.309984 -0.916596  -0.995130         -1.078967       0.629077   \n",
            "15425   0.309984 -0.916596  -0.995130         -1.078967       0.629077   \n",
            "\n",
            "        volleys  dribbling     curve  free_kick_accuracy  long_passing  \n",
            "0     -0.349595  -0.539125 -0.519228           -0.642574      0.454318  \n",
            "1     -0.349595  -0.539125 -0.519228           -0.642574      0.454318  \n",
            "2     -0.349595  -0.539125 -0.519228           -0.642574      0.454318  \n",
            "3     -0.405235  -0.595905 -0.574407           -0.699289      0.384526  \n",
            "4     -0.405235  -0.595905 -0.574407           -0.699289      0.384526  \n",
            "...         ...        ...       ...                 ...           ...  \n",
            "15421 -0.460875   0.028674  0.529168           -0.472428      0.663693  \n",
            "15422 -0.516514  -0.198446  0.473989           -0.529144      0.942861  \n",
            "15423 -0.572154  -0.425566  0.418810           -0.585859      0.524109  \n",
            "15424 -0.572154  -0.425566  0.418810           -0.585859      0.524109  \n",
            "15425 -0.572154  -0.425566  0.418810           -0.585859      0.524109  \n",
            "\n",
            "[15000 rows x 10 columns]\n"
          ]
        }
      ]
    },
    {
      "cell_type": "markdown",
      "source": [
        "Agregamos la columna de 1 x^0"
      ],
      "metadata": {
        "id": "3tpDPFbphMSa"
      }
    },
    {
      "cell_type": "code",
      "source": [
        "X = np.concatenate([np.ones((m, 1)), X_norm], axis=1)"
      ],
      "metadata": {
        "id": "UKJCHF1_hJPU"
      },
      "execution_count": null,
      "outputs": []
    },
    {
      "cell_type": "markdown",
      "source": [
        "Funcion que calcula el Costo J"
      ],
      "metadata": {
        "id": "QeHCR1jWnJYP"
      }
    },
    {
      "cell_type": "code",
      "source": [
        "def computeCostMulti(X, y, theta):\n",
        "    J = 0\n",
        "    J = (1/(2 * m)) * np.sum(np.square(np.dot(X, theta) - y))\n",
        "    return J"
      ],
      "metadata": {
        "id": "nObX2ku1hXsA"
      },
      "execution_count": null,
      "outputs": []
    },
    {
      "cell_type": "markdown",
      "source": [
        "Funcion que calcula las Theta y el historial de costo"
      ],
      "metadata": {
        "id": "uH4gwWQnnTCj"
      }
    },
    {
      "cell_type": "code",
      "source": [
        "def gradientDescentMulti(X, y, theta, alpha, num_iters):\n",
        "    theta = theta.copy()\n",
        "    J_history = []\n",
        "    for i in range(num_iters):\n",
        "        theta = theta - (alpha / m) * (np.dot(X, theta) - y).dot(X)\n",
        "        J_history.append(computeCostMulti(X, y, theta))\n",
        "    return theta, J_history"
      ],
      "metadata": {
        "id": "3i4K7LRshhrk"
      },
      "execution_count": null,
      "outputs": []
    },
    {
      "cell_type": "markdown",
      "source": [
        "Calculo de Theta y el costo menor"
      ],
      "metadata": {
        "id": "sU5PnZgpngQs"
      }
    },
    {
      "cell_type": "code",
      "source": [
        "alpha = 0.001\n",
        "num_iters = 5000\n",
        "\n",
        "theta = np.zeros(11)\n",
        "theta, J_history = gradientDescentMulti(X, y, theta, alpha, num_iters)\n",
        "print(J_history[-1])\n",
        "\n",
        "pyplot.plot(np.arange(len(J_history)), J_history, lw=2)\n",
        "pyplot.xlabel('Numero de iteraciones')\n",
        "pyplot.ylabel('Costo J')\n",
        "pyplot.title('Convergencia del Descenso por el Gradiente')\n",
        "pyplot.show()"
      ],
      "metadata": {
        "colab": {
          "base_uri": "https://localhost:8080/",
          "height": 489
        },
        "id": "iPVaIKfshwXg",
        "outputId": "f6ad3c96-e977-49a5-c62f-ecd389976611"
      },
      "execution_count": null,
      "outputs": [
        {
          "output_type": "stream",
          "name": "stdout",
          "text": [
            "8.758587824413693\n"
          ]
        },
        {
          "output_type": "display_data",
          "data": {
            "text/plain": [
              "<Figure size 640x480 with 1 Axes>"
            ],
            "image/png": "[encoded data removed]"
          },
          "metadata": {}
        }
      ]
    },
    {
      "cell_type": "markdown",
      "source": [
        "Calculo de predicciones"
      ],
      "metadata": {
        "id": "EbF-dxZ1itLT"
      }
    },
    {
      "cell_type": "code",
      "source": [
        "X_norm, mu, sigma = featureNormalize(X_predic)\n",
        "X_regresion = np.concatenate([np.ones((m_predic, 1)), X_norm], axis=1)\n",
        "for i in range(m_predic):\n",
        "  X_array = np.array(X_regresion[i])\n",
        "  Prediccion = ´´\n",
        "  Error = y_predic.iloc[i] - Prediccion\n",
        "  print('La predicción es: ',Prediccion,'El valor original es de: ', y_predic.iloc[i],' y el error de: ', Error)"
      ],
      "metadata": {
        "colab": {
          "base_uri": "https://localhost:8080/"
        },
        "id": "qaMy-kvih48w",
        "outputId": "fb86997c-73b3-4c67-a8cf-082fb3cdb16e"
      },
      "execution_count": null,
      "outputs": [
        {
          "output_type": "stream",
          "name": "stdout",
          "text": [
            "La predicción es:  65.30836809566905 El valor original es de:  69.0  y el error de:  3.691631904330947\n",
            "La predicción es:  65.30836809566905 El valor original es de:  69.0  y el error de:  3.691631904330947\n",
            "La predicción es:  65.30836809566905 El valor original es de:  69.0  y el error de:  3.691631904330947\n",
            "La predicción es:  65.98029815599872 El valor original es de:  70.0  y el error de:  4.0197018440012755\n",
            "La predicción es:  67.36006222195293 El valor original es de:  72.0  y el error de:  4.63993777804707\n",
            "La predicción es:  68.1024103386791 El valor original es de:  73.0  y el error de:  4.897589661320893\n",
            "La predicción es:  71.41731689787339 El valor original es de:  73.0  y el error de:  1.5826831021266088\n",
            "La predicción es:  69.09638286374991 El valor original es de:  71.0  y el error de:  1.9036171362500909\n",
            "La predicción es:  68.35467283781131 El valor original es de:  67.0  y el error de:  -1.3546728378113073\n",
            "La predicción es:  68.35467283781131 El valor original es de:  67.0  y el error de:  -1.3546728378113073\n",
            "La predicción es:  70.5878827367132 El valor original es de:  70.0  y el error de:  -0.5878827367131976\n",
            "La predicción es:  70.34704571050075 El valor original es de:  68.0  y el error de:  -2.347045710500751\n",
            "La predicción es:  70.34704571050075 El valor original es de:  73.0  y el error de:  2.652954289499249\n",
            "La predicción es:  69.62952947988174 El valor original es de:  73.0  y el error de:  3.3704705201182605\n",
            "La predicción es:  61.620888527656085 El valor original es de:  66.0  y el error de:  4.379111472343915\n",
            "La predicción es:  60.40797290610299 El valor original es de:  64.0  y el error de:  3.592027093897009\n",
            "La predicción es:  61.02184173147244 El valor original es de:  65.0  y el error de:  3.978158268527558\n",
            "La predicción es:  61.16687332794784 El valor original es de:  65.0  y el error de:  3.8331266720521597\n",
            "La predicción es:  58.21584883167168 El valor original es de:  61.0  y el error de:  2.7841511683283215\n",
            "La predicción es:  58.21584883167168 El valor original es de:  61.0  y el error de:  2.7841511683283215\n",
            "La predicción es:  58.21584883167168 El valor original es de:  61.0  y el error de:  2.7841511683283215\n",
            "La predicción es:  58.21584883167168 El valor original es de:  61.0  y el error de:  2.7841511683283215\n",
            "La predicción es:  65.60592444899018 El valor original es de:  72.0  y el error de:  6.39407555100982\n",
            "La predicción es:  65.60592444899018 El valor original es de:  72.0  y el error de:  6.39407555100982\n",
            "La predicción es:  65.73643586419227 El valor original es de:  72.0  y el error de:  6.2635641358077265\n",
            "La predicción es:  65.74699693740155 El valor original es de:  72.0  y el error de:  6.253003062598452\n",
            "La predicción es:  65.79874660077506 El valor original es de:  72.0  y el error de:  6.201253399224939\n",
            "La predicción es:  66.98535208392111 El valor original es de:  73.0  y el error de:  6.014647916078886\n",
            "La predicción es:  66.98535208392111 El valor original es de:  73.0  y el error de:  6.014647916078886\n",
            "La predicción es:  67.59922090929057 El valor original es de:  73.0  y el error de:  5.400779090709435\n",
            "La predicción es:  67.59922090929057 El valor original es de:  73.0  y el error de:  5.400779090709435\n",
            "La predicción es:  65.2061353536785 El valor original es de:  69.0  y el error de:  3.793864646321495\n",
            "La predicción es:  64.58940016383967 El valor original es de:  68.0  y el error de:  3.41059983616033\n",
            "La predicción es:  63.52073516785506 El valor original es de:  67.0  y el error de:  3.479264832144942\n",
            "La predicción es:  63.53506699020192 El valor original es de:  67.0  y el error de:  3.464933009798081\n",
            "La predicción es:  63.53506699020192 El valor original es de:  67.0  y el error de:  3.464933009798081\n",
            "La predicción es:  59.99688563446062 El valor original es de:  66.0  y el error de:  6.003114365539382\n",
            "La predicción es:  59.99688563446062 El valor original es de:  66.0  y el error de:  6.003114365539382\n",
            "La predicción es:  59.383016809091174 El valor original es de:  65.0  y el error de:  5.616983190908826\n",
            "La predicción es:  56.74393454422949 El valor original es de:  55.0  y el error de:  -1.7439345442294893\n",
            "La predicción es:  56.74393454422949 El valor original es de:  56.0  y el error de:  -0.7439345442294893\n",
            "La predicción es:  51.81496516042472 El valor original es de:  51.0  y el error de:  -0.8149651604247197\n",
            "La predicción es:  51.81496516042472 El valor original es de:  51.0  y el error de:  -0.8149651604247197\n",
            "La predicción es:  70.60207982887502 El valor original es de:  77.0  y el error de:  6.39792017112498\n",
            "La predicción es:  70.60207982887502 El valor original es de:  77.0  y el error de:  6.39792017112498\n",
            "La predicción es:  70.61968161755713 El valor original es de:  77.0  y el error de:  6.380318382442866\n",
            "La predicción es:  71.76689032068816 El valor original es de:  78.0  y el error de:  6.233109679311838\n",
            "La predicción es:  72.38075914605761 El valor original es de:  79.0  y el error de:  6.619240853942387\n",
            "La predicción es:  72.38075914605761 El valor original es de:  79.0  y el error de:  6.619240853942387\n",
            "La predicción es:  71.62185872421279 El valor original es de:  78.0  y el error de:  6.378141275787215\n",
            "La predicción es:  72.45192645720762 El valor original es de:  79.0  y el error de:  6.54807354279238\n",
            "La predicción es:  72.44906009273825 El valor original es de:  79.0  y el error de:  6.55093990726175\n",
            "La predicción es:  72.44906009273825 El valor original es de:  79.0  y el error de:  6.55093990726175\n",
            "La predicción es:  72.51895682201628 El valor original es de:  79.0  y el error de:  6.481043177983722\n",
            "La predicción es:  71.74590296081044 El valor original es de:  78.0  y el error de:  6.25409703918956\n",
            "La predicción es:  73.13594677556632 El valor original es de:  80.0  y el error de:  6.864053224433675\n",
            "La predicción es:  72.24483431978253 El valor original es de:  79.0  y el error de:  6.755165680217473\n",
            "La predicción es:  72.25506817185128 El valor original es de:  79.0  y el error de:  6.744931828148722\n",
            "La predicción es:  72.75201441211225 El valor original es de:  80.0  y el error de:  7.247985587887754\n",
            "La predicción es:  72.49031741227547 El valor original es de:  80.0  y el error de:  7.509682587724527\n",
            "La predicción es:  72.6265615564163 El valor original es de:  80.0  y el error de:  7.373438443583694\n",
            "La predicción es:  72.6265615564163 El valor original es de:  80.0  y el error de:  7.373438443583694\n",
            "La predicción es:  73.42582375397316 El valor original es de:  81.0  y el error de:  7.574176246026838\n",
            "La predicción es:  73.44777728292208 El valor original es de:  81.0  y el error de:  7.552222717077925\n",
            "La predicción es:  73.44777728292208 El valor original es de:  81.0  y el error de:  7.552222717077925\n",
            "La predicción es:  74.34462246764463 El valor original es de:  82.0  y el error de:  7.655377532355374\n",
            "La predicción es:  75.48086946000728 El valor original es de:  84.0  y el error de:  8.519130539992716\n",
            "La predicción es:  75.48086946000728 El valor original es de:  84.0  y el error de:  8.519130539992716\n",
            "La predicción es:  75.48086946000728 El valor original es de:  84.0  y el error de:  8.519130539992716\n",
            "La predicción es:  76.09473828537674 El valor original es de:  85.0  y el error de:  8.905261714623265\n",
            "La predicción es:  76.09473828537674 El valor original es de:  85.0  y el error de:  8.905261714623265\n",
            "La predicción es:  76.09473828537674 El valor original es de:  85.0  y el error de:  8.905261714623265\n",
            "La predicción es:  75.7124258025153 El valor original es de:  84.0  y el error de:  8.287574197484702\n",
            "La predicción es:  75.71529216698468 El valor original es de:  84.0  y el error de:  8.284707833015318\n",
            "La predicción es:  75.70431540251022 El valor original es de:  84.0  y el error de:  8.295684597489782\n",
            "La predicción es:  75.70431540251022 El valor original es de:  84.0  y el error de:  8.295684597489782\n",
            "La predicción es:  75.72085634490318 El valor original es de:  84.0  y el error de:  8.279143655096817\n",
            "La predicción es:  76.38723608108852 El valor original es de:  85.0  y el error de:  8.612763918911483\n",
            "La predicción es:  77.4822887492286 El valor original es de:  86.0  y el error de:  8.517711250771399\n",
            "La predicción es:  77.4822887492286 El valor original es de:  86.0  y el error de:  8.517711250771399\n",
            "La predicción es:  77.39511083796711 El valor original es de:  84.0  y el error de:  6.60488916203289\n",
            "La predicción es:  77.31333175776452 El valor original es de:  84.0  y el error de:  6.686668242235484\n",
            "La predicción es:  77.27150563526206 El valor original es de:  85.0  y el error de:  7.728494364737941\n",
            "La predicción es:  77.20911629213039 El valor original es de:  85.0  y el error de:  7.790883707869611\n",
            "La predicción es:  78.15177376016894 El valor original es de:  86.0  y el error de:  7.848226239831064\n",
            "La predicción es:  77.85202768800244 El valor original es de:  85.0  y el error de:  7.147972311997563\n",
            "La predicción es:  73.82131922757114 El valor original es de:  82.0  y el error de:  8.178680772428862\n",
            "La predicción es:  73.1476110934489 El valor original es de:  82.0  y el error de:  8.852388906551099\n",
            "La predicción es:  59.87350206438246 El valor original es de:  68.0  y el error de:  8.126497935617543\n",
            "La predicción es:  59.87350206438246 El valor original es de:  68.0  y el error de:  8.126497935617543\n",
            "La predicción es:  63.55671501659915 El valor original es de:  70.0  y el error de:  6.443284983400851\n",
            "La predicción es:  63.55671501659915 El valor original es de:  72.0  y el error de:  8.44328498340085\n",
            "La predicción es:  64.23199698700432 El valor original es de:  71.0  y el error de:  6.768003012995678\n",
            "La predicción es:  64.47584651462313 El valor original es de:  71.0  y el error de:  6.524153485376871\n",
            "La predicción es:  65.71170548936362 El valor original es de:  69.0  y el error de:  3.2882945106363763\n",
            "La predicción es:  65.71170548936362 El valor original es de:  69.0  y el error de:  3.2882945106363763\n",
            "La predicción es:  65.71170548936362 El valor original es de:  74.0  y el error de:  8.288294510636376\n",
            "La predicción es:  66.44929856466796 El valor original es de:  74.0  y el error de:  7.550701435332044\n",
            "La predicción es:  57.438233008540735 El valor original es de:  65.0  y el error de:  7.561766991459265\n",
            "La predicción es:  57.438233008540735 El valor original es de:  65.0  y el error de:  7.561766991459265\n"
          ]
        }
      ]
    },
    {
      "cell_type": "markdown",
      "source": [
        "#Regresión Polinomial"
      ],
      "metadata": {
        "id": "94zU52C3k_v8"
      }
    },
    {
      "cell_type": "markdown",
      "source": [
        "Importación de DataSet de Google Drive, limpieza del dataset y visualización de datos"
      ],
      "metadata": {
        "id": "nwRREP6olZ3I"
      }
    },
    {
      "cell_type": "code",
      "source": [
        "from google.colab import drive\n",
        "drive.mount(\"/content/drive\")\n",
        "import pandas as pd\n",
        "data = pd.read_csv('/content/drive/MyDrive/machine learning/datasets/Player_Attributes.csv', delimiter=',')\n",
        "data = data.dropna()\n",
        "data.info()"
      ],
      "metadata": {
        "id": "Y-q9VxGjlWFb",
        "colab": {
          "base_uri": "https://localhost:8080/"
        },
        "outputId": "63773ff2-efda-4fc8-f9bf-c52cf8a5d192"
      },
      "execution_count": null,
      "outputs": [
        {
          "output_type": "stream",
          "name": "stdout",
          "text": [
            "Drive already mounted at /content/drive; to attempt to forcibly remount, call drive.mount(\"/content/drive\", force_remount=True).\n",
            "<class 'pandas.core.frame.DataFrame'>\n",
            "Index: 177037 entries, 0 to 183977\n",
            "Data columns (total 42 columns):\n",
            " #   Column               Non-Null Count   Dtype  \n",
            "---  ------               --------------   -----  \n",
            " 0   id                   177037 non-null  int64  \n",
            " 1   player_fifa_api_id   177037 non-null  int64  \n",
            " 2   player_api_id        177037 non-null  int64  \n",
            " 3   date                 177037 non-null  object \n",
            " 4   overall_rating       177037 non-null  float64\n",
            " 5   potential            177037 non-null  float64\n",
            " 6   preferred_foot       177037 non-null  object \n",
            " 7   attacking_work_rate  177037 non-null  object \n",
            " 8   defensive_work_rate  177037 non-null  object \n",
            " 9   crossing             177037 non-null  float64\n",
            " 10  finishing            177037 non-null  float64\n",
            " 11  heading_accuracy     177037 non-null  float64\n",
            " 12  short_passing        177037 non-null  float64\n",
            " 13  volleys              177037 non-null  float64\n",
            " 14  dribbling            177037 non-null  float64\n",
            " 15  curve                177037 non-null  float64\n",
            " 16  free_kick_accuracy   177037 non-null  float64\n",
            " 17  long_passing         177037 non-null  float64\n",
            " 18  ball_control         177037 non-null  float64\n",
            " 19  acceleration         177037 non-null  float64\n",
            " 20  sprint_speed         177037 non-null  float64\n",
            " 21  agility              177037 non-null  float64\n",
            " 22  reactions            177037 non-null  float64\n",
            " 23  balance              177037 non-null  float64\n",
            " 24  shot_power           177037 non-null  float64\n",
            " 25  jumping              177037 non-null  float64\n",
            " 26  stamina              177037 non-null  float64\n",
            " 27  strength             177037 non-null  float64\n",
            " 28  long_shots           177037 non-null  float64\n",
            " 29  aggression           177037 non-null  float64\n",
            " 30  interceptions        177037 non-null  float64\n",
            " 31  positioning          177037 non-null  float64\n",
            " 32  vision               177037 non-null  float64\n",
            " 33  penalties            177037 non-null  float64\n",
            " 34  marking              177037 non-null  float64\n",
            " 35  standing_tackle      177037 non-null  float64\n",
            " 36  sliding_tackle       177037 non-null  float64\n",
            " 37  gk_diving            177037 non-null  float64\n",
            " 38  gk_handling          177037 non-null  float64\n",
            " 39  gk_kicking           177037 non-null  float64\n",
            " 40  gk_positioning       177037 non-null  float64\n",
            " 41  gk_reflexes          177037 non-null  float64\n",
            "dtypes: float64(35), int64(3), object(4)\n",
            "memory usage: 58.1+ MB\n"
          ]
        }
      ]
    },
    {
      "cell_type": "markdown",
      "source": [
        "Cargamos las variables x, y y m demás de tomar datos del mismo data set para predicciones"
      ],
      "metadata": {
        "id": "imqhb944lkiK"
      }
    },
    {
      "cell_type": "code",
      "source": [
        "X = data.iloc[:15000, [5,9,10,11,12,13,14,15,16,17]]\n",
        "y = data.iloc[:15000, 4]\n",
        "m = y.size\n",
        "\n",
        "X_predic = data.iloc[15000:15100, [5,9,10,11,12,13,14,15,16,17]]\n",
        "y_predic = data.iloc[15000:15100, 4]\n",
        "m_predic = y_predic.size"
      ],
      "metadata": {
        "id": "n5ABNDn1lnST"
      },
      "execution_count": null,
      "outputs": []
    },
    {
      "cell_type": "markdown",
      "source": [
        "Visualización de datos"
      ],
      "metadata": {
        "id": "Q3mFguvdlsm7"
      }
    },
    {
      "cell_type": "code",
      "source": [
        "print(X)\n",
        "print('------------------------------------------------------------------------------')\n",
        "print(y)\n",
        "print(m)\n",
        "print('------------------------------------------------------------------------------')\n",
        "print('------------------------------------------------------------------------------')\n",
        "print(X_predic)\n",
        "print('------------------------------------------------------------------------------')\n",
        "print(y_predic)\n",
        "print(m_predic)"
      ],
      "metadata": {
        "colab": {
          "base_uri": "https://localhost:8080/"
        },
        "id": "qAVQGqKIlyCk",
        "outputId": "7ed71506-c008-4100-a813-4ea8d4dd185d"
      },
      "execution_count": null,
      "outputs": [
        {
          "output_type": "stream",
          "name": "stdout",
          "text": [
            "       potential  crossing  finishing  heading_accuracy  short_passing  \\\n",
            "0           71.0      49.0       44.0              71.0           61.0   \n",
            "1           71.0      49.0       44.0              71.0           61.0   \n",
            "2           66.0      49.0       44.0              71.0           61.0   \n",
            "3           65.0      48.0       43.0              70.0           60.0   \n",
            "4           65.0      48.0       43.0              70.0           60.0   \n",
            "...          ...       ...        ...               ...            ...   \n",
            "15421       77.0      54.0       37.0              42.0           80.0   \n",
            "15422       74.0      53.0       36.0              41.0           80.0   \n",
            "15423       73.0      40.0       32.0              40.0           72.0   \n",
            "15424       76.0      40.0       32.0              40.0           72.0   \n",
            "15425       76.0      40.0       32.0              40.0           72.0   \n",
            "\n",
            "       volleys  dribbling  curve  free_kick_accuracy  long_passing  \n",
            "0         44.0       51.0   45.0                39.0          64.0  \n",
            "1         44.0       51.0   45.0                39.0          64.0  \n",
            "2         44.0       51.0   45.0                39.0          64.0  \n",
            "3         43.0       50.0   44.0                38.0          63.0  \n",
            "4         43.0       50.0   44.0                38.0          63.0  \n",
            "...        ...        ...    ...                 ...           ...  \n",
            "15421     42.0       61.0   64.0                42.0          67.0  \n",
            "15422     41.0       57.0   63.0                41.0          71.0  \n",
            "15423     40.0       53.0   62.0                40.0          65.0  \n",
            "15424     40.0       53.0   62.0                40.0          65.0  \n",
            "15425     40.0       53.0   62.0                40.0          65.0  \n",
            "\n",
            "[15000 rows x 10 columns]\n",
            "------------------------------------------------------------------------------\n",
            "0        67.0\n",
            "1        67.0\n",
            "2        62.0\n",
            "3        61.0\n",
            "4        61.0\n",
            "         ... \n",
            "15421    67.0\n",
            "15422    64.0\n",
            "15423    59.0\n",
            "15424    59.0\n",
            "15425    59.0\n",
            "Name: overall_rating, Length: 15000, dtype: float64\n",
            "15000\n",
            "------------------------------------------------------------------------------\n",
            "------------------------------------------------------------------------------\n",
            "       potential  crossing  finishing  heading_accuracy  short_passing  \\\n",
            "15426       69.0      72.0       55.0              47.0           75.0   \n",
            "15427       69.0      72.0       55.0              47.0           75.0   \n",
            "15428       69.0      72.0       55.0              47.0           75.0   \n",
            "15429       70.0      74.0       55.0              47.0           75.0   \n",
            "15430       72.0      74.0       55.0              47.0           81.0   \n",
            "...          ...       ...        ...               ...            ...   \n",
            "15521       75.0      22.0       22.0              27.0           32.0   \n",
            "15522       75.0      22.0       22.0              27.0           32.0   \n",
            "15523       75.0      25.0       24.0              27.0           32.0   \n",
            "15524       69.0      13.0       10.0              10.0           11.0   \n",
            "15525       69.0      13.0       10.0              10.0           11.0   \n",
            "\n",
            "       volleys  dribbling  curve  free_kick_accuracy  long_passing  \n",
            "15426     71.0       72.0   85.0                79.0          74.0  \n",
            "15427     71.0       72.0   85.0                79.0          74.0  \n",
            "15428     71.0       72.0   85.0                79.0          74.0  \n",
            "15429     71.0       73.0   85.0                83.0          74.0  \n",
            "15430     71.0       75.0   85.0                86.0          75.0  \n",
            "...        ...        ...    ...                 ...           ...  \n",
            "15521      9.0       22.0   25.0                 8.0          69.0  \n",
            "15522      9.0       22.0   25.0                 8.0          69.0  \n",
            "15523      9.0       24.0   25.0                53.0          69.0  \n",
            "15524     11.0       19.0   16.0                12.0          11.0  \n",
            "15525     11.0       19.0   16.0                12.0          11.0  \n",
            "\n",
            "[100 rows x 10 columns]\n",
            "------------------------------------------------------------------------------\n",
            "15426    69.0\n",
            "15427    69.0\n",
            "15428    69.0\n",
            "15429    70.0\n",
            "15430    72.0\n",
            "         ... \n",
            "15521    69.0\n",
            "15522    74.0\n",
            "15523    74.0\n",
            "15524    65.0\n",
            "15525    65.0\n",
            "Name: overall_rating, Length: 100, dtype: float64\n",
            "100\n"
          ]
        }
      ]
    },
    {
      "cell_type": "markdown",
      "source": [
        "Concatenamos X con X al cuadrado"
      ],
      "metadata": {
        "id": "_85rJrvolzcj"
      }
    },
    {
      "cell_type": "code",
      "source": [
        "X = np.concatenate([X, X * X], axis=1)"
      ],
      "metadata": {
        "id": "QOcN5Ly3mFaB"
      },
      "execution_count": null,
      "outputs": []
    },
    {
      "cell_type": "markdown",
      "source": [
        "Normalizacion de datos por funcion"
      ],
      "metadata": {
        "id": "e4Dbw_IEmVJF"
      }
    },
    {
      "cell_type": "code",
      "source": [
        "def  featureNormalizeFuncion(X):\n",
        "    X_norm = X.copy()\n",
        "    mu = np.zeros(X.shape[1])\n",
        "    sigma = np.zeros(X.shape[1])\n",
        "\n",
        "    mu = np.mean(X, axis = 0)\n",
        "    sigma = np.std(X, axis = 0)\n",
        "    X_norm = (X - mu) / sigma\n",
        "\n",
        "    return X_norm, mu, sigma"
      ],
      "metadata": {
        "id": "VRGTck1amYhh"
      },
      "execution_count": null,
      "outputs": []
    },
    {
      "cell_type": "markdown",
      "source": [
        "Normalización y visualización de resultados"
      ],
      "metadata": {
        "id": "UxoqcRxvmfo-"
      }
    },
    {
      "cell_type": "code",
      "source": [
        "X_norm, mu, sigma = featureNormalizeFuncion(X)\n",
        "\n",
        "print(X)\n",
        "print('Media calculada:', mu)\n",
        "print('Desviación estandar calculada:', sigma)\n",
        "print(X_norm)"
      ],
      "metadata": {
        "colab": {
          "base_uri": "https://localhost:8080/"
        },
        "id": "UGIyR08tmlmp",
        "outputId": "f7f2d9ed-82ba-4d12-e5ed-cf100ef3375d"
      },
      "execution_count": null,
      "outputs": [
        {
          "output_type": "stream",
          "name": "stdout",
          "text": [
            "[[  71.   49.   44. ... 2025. 1521. 4096.]\n",
            " [  71.   49.   44. ... 2025. 1521. 4096.]\n",
            " [  66.   49.   44. ... 2025. 1521. 4096.]\n",
            " ...\n",
            " [  73.   40.   32. ... 3844. 1600. 4225.]\n",
            " [  76.   40.   32. ... 3844. 1600. 4225.]\n",
            " [  76.   40.   32. ... 3844. 1600. 4225.]]\n",
            "Media calculada: [  73.93146667   55.7568       50.80353333   57.06373333   63.06806667\n",
            "   50.2832       60.495        54.40993333   50.32986667   57.4904\n",
            " 5510.3912     3404.3364     2938.04126667 3506.38013333 4179.1774\n",
            " 2851.42133333 3969.82246667 3288.881      2843.98346667 3510.4464    ]\n",
            "Desviación estandar calculada: [   6.67303803   17.19056874   18.89556211   15.81488133   14.19846354\n",
            "   17.97278863   17.61185515   18.12291794   17.63201599   14.32830443\n",
            "  982.99385825 1758.04866691 1836.78819526 1632.48252496 1575.13467485\n",
            " 1713.89772914 1851.47896904 1839.50144747 1742.82059754 1542.41770034]\n",
            "[[-0.43930016 -0.39305273 -0.36005985 ... -0.68707801 -0.75910479\n",
            "   0.37963361]\n",
            " [-0.43930016 -0.39305273 -0.36005985 ... -0.68707801 -0.75910479\n",
            "   0.37963361]\n",
            " [-1.18858407 -0.39305273 -0.36005985 ... -0.68707801 -0.75910479\n",
            "   0.37963361]\n",
            " ...\n",
            " [-0.1395866  -0.91659562 -0.99512961 ...  0.30177688 -0.71377597\n",
            "   0.46326854]\n",
            " [ 0.30998375 -0.91659562 -0.99512961 ...  0.30177688 -0.71377597\n",
            "   0.46326854]\n",
            " [ 0.30998375 -0.91659562 -0.99512961 ...  0.30177688 -0.71377597\n",
            "   0.46326854]]\n"
          ]
        }
      ]
    },
    {
      "cell_type": "markdown",
      "source": [
        "Agregamos la columna de 1 a x"
      ],
      "metadata": {
        "id": "hS4VG1QEmrGE"
      }
    },
    {
      "cell_type": "code",
      "source": [
        "X = np.concatenate([np.ones((m, 1)), X_norm], axis=1)"
      ],
      "metadata": {
        "id": "LtXDbeNGmvc9"
      },
      "execution_count": null,
      "outputs": []
    },
    {
      "cell_type": "markdown",
      "source": [
        "Funcion que calcula el Costo J"
      ],
      "metadata": {
        "id": "KWd-9biFn4o0"
      }
    },
    {
      "cell_type": "code",
      "source": [
        "def computeCostMulti(X, y, theta):\n",
        "    J = 0\n",
        "    J = (1/(2 * m)) * np.sum(np.square(np.dot(X, theta) - y))\n",
        "    return J"
      ],
      "metadata": {
        "id": "dQ855HC5n5Zr"
      },
      "execution_count": null,
      "outputs": []
    },
    {
      "cell_type": "markdown",
      "source": [
        "Funcion que calcula las Theta y el historial de costo"
      ],
      "metadata": {
        "id": "aBbzJ73IoBbI"
      }
    },
    {
      "cell_type": "code",
      "source": [
        "def gradientDescentPoly(X, y, theta, alpha, num_iters):\n",
        "    theta = theta.copy()\n",
        "    J_history = []\n",
        "\n",
        "    for i in range(num_iters):\n",
        "        theta = theta - (alpha / m) * (np.dot(X, theta) - y).dot(X)\n",
        "        J_history.append(computeCostMulti(X, y, theta))\n",
        "\n",
        "    return theta, J_history"
      ],
      "metadata": {
        "id": "_CGqQqv_oHtR"
      },
      "execution_count": null,
      "outputs": []
    },
    {
      "cell_type": "markdown",
      "source": [
        "Calculo de Theta y el costo menor"
      ],
      "metadata": {
        "id": "MLRbI-4SoZaA"
      }
    },
    {
      "cell_type": "code",
      "source": [
        "alpha = 0.001\n",
        "num_iters = 5000\n",
        "\n",
        "theta = np.zeros(21)\n",
        "theta, J_history = gradientDescentPoly(X, y, theta, alpha, num_iters)\n",
        "\n",
        "pyplot.plot(np.arange(len(J_history)), J_history, lw=2)\n",
        "pyplot.xlabel('Numero de iteraciones')\n",
        "pyplot.ylabel('Costo J')\n",
        "\n",
        "print(J_history[-1])"
      ],
      "metadata": {
        "colab": {
          "base_uri": "https://localhost:8080/",
          "height": 470
        },
        "id": "CZQizOsYoazZ",
        "outputId": "11ee78c3-b74e-4979-9135-4ef5a8c07ced"
      },
      "execution_count": null,
      "outputs": [
        {
          "output_type": "stream",
          "name": "stdout",
          "text": [
            "7.336309818965626\n"
          ]
        },
        {
          "output_type": "display_data",
          "data": {
            "text/plain": [
              "<Figure size 640x480 with 1 Axes>"
            ],
            "image/png": "[encoded data removed]"
          },
          "metadata": {}
        }
      ]
    },
    {
      "cell_type": "markdown",
      "source": [
        "Calculo de predicciones"
      ],
      "metadata": {
        "id": "N00P_--5o3T7"
      }
    },
    {
      "cell_type": "code",
      "source": [
        "X_predic = np.concatenate([X_predic, X_predic * X_predic], axis=1)\n",
        "X_norm, mu, sigma = featureNormalize(X_predic)\n",
        "X_regresion = np.concatenate([np.ones((m_predic, 1)), X_norm], axis=1)\n",
        "for i in range(m_predic):\n",
        "  X_array = np.array(X_regresion[i])\n",
        "  Prediccion = np.dot(X_array, theta)\n",
        "  Error = y_predic.iloc[i] - Prediccion\n",
        "  print('La predicción es: ',Prediccion,'El valor original es de: ', y_predic.iloc[i],' y el error de: ', Error)"
      ],
      "metadata": {
        "colab": {
          "base_uri": "https://localhost:8080/"
        },
        "id": "IOaw9W30o9ar",
        "outputId": "7c1df715-f3b5-4e70-e475-101c0ed41717"
      },
      "execution_count": null,
      "outputs": [
        {
          "output_type": "stream",
          "name": "stdout",
          "text": [
            "La predicción es:  65.01813013678775 El valor original es de:  69.0  y el error de:  3.9818698632122533\n",
            "La predicción es:  65.01813013678775 El valor original es de:  69.0  y el error de:  3.9818698632122533\n",
            "La predicción es:  65.01813013678775 El valor original es de:  69.0  y el error de:  3.9818698632122533\n",
            "La predicción es:  65.76213401026118 El valor original es de:  70.0  y el error de:  4.237865989738822\n",
            "La predicción es:  67.20315407488157 El valor original es de:  72.0  y el error de:  4.796845925118433\n",
            "La predicción es:  67.94019410462278 El valor original es de:  73.0  y el error de:  5.059805895377224\n",
            "La predicción es:  71.09611713813293 El valor original es de:  73.0  y el error de:  1.903882861867075\n",
            "La predicción es:  68.35013031974013 El valor original es de:  71.0  y el error de:  2.6498696802598687\n",
            "La predicción es:  67.5386798546418 El valor original es de:  67.0  y el error de:  -0.5386798546417992\n",
            "La predicción es:  67.5386798546418 El valor original es de:  67.0  y el error de:  -0.5386798546417992\n",
            "La predicción es:  70.01645798052832 El valor original es de:  70.0  y el error de:  -0.016457980528315375\n",
            "La predicción es:  69.67988922380516 El valor original es de:  68.0  y el error de:  -1.6798892238051621\n",
            "La predicción es:  69.67988922380516 El valor original es de:  73.0  y el error de:  3.320110776194838\n",
            "La predicción es:  68.90946831405194 El valor original es de:  73.0  y el error de:  4.090531685948065\n",
            "La predicción es:  60.59308533530021 El valor original es de:  66.0  y el error de:  5.406914664699791\n",
            "La predicción es:  59.571380295561035 El valor original es de:  64.0  y el error de:  4.428619704438965\n",
            "La predicción es:  60.098569114566516 El valor original es de:  65.0  y el error de:  4.901430885433484\n",
            "La predicción es:  60.33503807813896 El valor original es de:  65.0  y el error de:  4.6649619218610425\n",
            "La predicción es:  57.5515721365005 El valor original es de:  61.0  y el error de:  3.4484278634994965\n",
            "La predicción es:  57.5515721365005 El valor original es de:  61.0  y el error de:  3.4484278634994965\n",
            "La predicción es:  57.5515721365005 El valor original es de:  61.0  y el error de:  3.4484278634994965\n",
            "La predicción es:  57.5515721365005 El valor original es de:  61.0  y el error de:  3.4484278634994965\n",
            "La predicción es:  64.30101244463286 El valor original es de:  72.0  y el error de:  7.69898755536714\n",
            "La predicción es:  64.30101244463286 El valor original es de:  72.0  y el error de:  7.69898755536714\n",
            "La predicción es:  64.48943640960769 El valor original es de:  72.0  y el error de:  7.510563590392309\n",
            "La predicción es:  64.52380861864204 El valor original es de:  72.0  y el error de:  7.476191381357964\n",
            "La predicción es:  64.57580088406378 El valor original es de:  72.0  y el error de:  7.424199115936219\n",
            "La predicción es:  65.88367465870353 El valor original es de:  73.0  y el error de:  7.1163253412964735\n",
            "La predicción es:  65.88367465870353 El valor original es de:  73.0  y el error de:  7.1163253412964735\n",
            "La predicción es:  66.45191836638935 El valor original es de:  73.0  y el error de:  6.54808163361065\n",
            "La predicción es:  66.45191836638935 El valor original es de:  73.0  y el error de:  6.54808163361065\n",
            "La predicción es:  63.63107520387112 El valor original es de:  69.0  y el error de:  5.36892479612888\n",
            "La predicción es:  63.06807868939623 El valor original es de:  68.0  y el error de:  4.931921310603769\n",
            "La predicción es:  61.966062808626695 El valor original es de:  67.0  y el error de:  5.033937191373305\n",
            "La predicción es:  61.988379564158286 El valor original es de:  67.0  y el error de:  5.011620435841714\n",
            "La predicción es:  61.988379564158286 El valor original es de:  67.0  y el error de:  5.011620435841714\n",
            "La predicción es:  58.89684707481364 El valor original es de:  66.0  y el error de:  7.103152925186357\n",
            "La predicción es:  58.89684707481364 El valor original es de:  66.0  y el error de:  7.103152925186357\n",
            "La predicción es:  58.36592599320086 El valor original es de:  65.0  y el error de:  6.634074006799139\n",
            "La predicción es:  55.897254613264685 El valor original es de:  55.0  y el error de:  -0.8972546132646855\n",
            "La predicción es:  55.897254613264685 El valor original es de:  56.0  y el error de:  0.10274538673531453\n",
            "La predicción es:  51.87893195047644 El valor original es de:  51.0  y el error de:  -0.8789319504764421\n",
            "La predicción es:  51.87893195047644 El valor original es de:  51.0  y el error de:  -0.8789319504764421\n",
            "La predicción es:  70.8988375603191 El valor original es de:  77.0  y el error de:  6.101162439680905\n",
            "La predicción es:  70.8988375603191 El valor original es de:  77.0  y el error de:  6.101162439680905\n",
            "La predicción es:  70.98527458309323 El valor original es de:  77.0  y el error de:  6.014725416906771\n",
            "La predicción es:  72.57215771726997 El valor original es de:  78.0  y el error de:  5.427842282730026\n",
            "La predicción es:  73.15159821277771 El valor original es de:  79.0  y el error de:  5.848401787222286\n",
            "La predicción es:  73.15159821277771 El valor original es de:  79.0  y el error de:  5.848401787222286\n",
            "La predicción es:  72.21129420841278 El valor original es de:  78.0  y el error de:  5.788705791587219\n",
            "La predicción es:  73.24792724544022 El valor original es de:  79.0  y el error de:  5.7520727545597765\n",
            "La predicción es:  73.25469398984715 El valor original es de:  79.0  y el error de:  5.745306010152845\n",
            "La predicción es:  73.25469398984715 El valor original es de:  79.0  y el error de:  5.745306010152845\n",
            "La predicción es:  73.29436210178055 El valor original es de:  79.0  y el error de:  5.70563789821945\n",
            "La predicción es:  72.38478836059782 El valor original es de:  78.0  y el error de:  5.615211639402176\n",
            "La predicción es:  73.94370891519138 El valor original es de:  80.0  y el error de:  6.05629108480862\n",
            "La predicción es:  72.79105128324761 El valor original es de:  79.0  y el error de:  6.2089487167523885\n",
            "La predicción es:  72.78734090168551 El valor original es de:  79.0  y el error de:  6.212659098314489\n",
            "La predicción es:  73.17728959642683 El valor original es de:  80.0  y el error de:  6.8227104035731685\n",
            "La predicción es:  72.7449667366553 El valor original es de:  80.0  y el error de:  7.2550332633447\n",
            "La predicción es:  72.96976327440908 El valor original es de:  80.0  y el error de:  7.030236725590925\n",
            "La predicción es:  72.96976327440908 El valor original es de:  80.0  y el error de:  7.030236725590925\n",
            "La predicción es:  74.03658584268896 El valor original es de:  81.0  y el error de:  6.9634141573110355\n",
            "La predicción es:  74.08728114907446 El valor original es de:  81.0  y el error de:  6.912718850925543\n",
            "La predicción es:  74.08728114907446 El valor original es de:  81.0  y el error de:  6.912718850925543\n",
            "La predicción es:  75.27590759935552 El valor original es de:  82.0  y el error de:  6.72409240064448\n",
            "La predicción es:  76.49037395861376 El valor original es de:  84.0  y el error de:  7.509626041386241\n",
            "La predicción es:  76.49037395861376 El valor original es de:  84.0  y el error de:  7.509626041386241\n",
            "La predicción es:  76.49037395861376 El valor original es de:  84.0  y el error de:  7.509626041386241\n",
            "La predicción es:  77.09220802976533 El valor original es de:  85.0  y el error de:  7.907791970234669\n",
            "La predicción es:  77.09220802976533 El valor original es de:  85.0  y el error de:  7.907791970234669\n",
            "La predicción es:  77.09220802976533 El valor original es de:  85.0  y el error de:  7.907791970234669\n",
            "La predicción es:  76.97572286196264 El valor original es de:  84.0  y el error de:  7.0242771380373625\n",
            "La predicción es:  76.96783310800438 El valor original es de:  84.0  y el error de:  7.032166891995615\n",
            "La predicción es:  76.94019263128291 El valor original es de:  84.0  y el error de:  7.059807368717088\n",
            "La predicción es:  76.94019263128291 El valor original es de:  84.0  y el error de:  7.059807368717088\n",
            "La predicción es:  76.96206438608023 El valor original es de:  84.0  y el error de:  7.037935613919771\n",
            "La predicción es:  77.71017321184647 El valor original es de:  85.0  y el error de:  7.289826788153533\n",
            "La predicción es:  79.5055546736339 El valor original es de:  86.0  y el error de:  6.494445326366105\n",
            "La predicción es:  79.5055546736339 El valor original es de:  86.0  y el error de:  6.494445326366105\n",
            "La predicción es:  79.25825757878002 El valor original es de:  84.0  y el error de:  4.741742421219982\n",
            "La predicción es:  79.07754347045163 El valor original es de:  84.0  y el error de:  4.92245652954837\n",
            "La predicción es:  78.92436023035926 El valor original es de:  85.0  y el error de:  6.075639769640745\n",
            "La predicción es:  78.76233080373004 El valor original es de:  85.0  y el error de:  6.237669196269962\n",
            "La predicción es:  79.59525470684189 El valor original es de:  86.0  y el error de:  6.404745293158115\n",
            "La predicción es:  79.01423808366118 El valor original es de:  85.0  y el error de:  5.9857619163388165\n",
            "La predicción es:  73.46933657060946 El valor original es de:  82.0  y el error de:  8.530663429390543\n",
            "La predicción es:  72.47645358077393 El valor original es de:  82.0  y el error de:  9.523546419226065\n",
            "La predicción es:  59.17285823132216 El valor original es de:  68.0  y el error de:  8.82714176867784\n",
            "La predicción es:  59.17285823132216 El valor original es de:  68.0  y el error de:  8.82714176867784\n",
            "La predicción es:  62.48154938703993 El valor original es de:  70.0  y el error de:  7.518450612960073\n",
            "La predicción es:  62.48154938703993 El valor original es de:  72.0  y el error de:  9.518450612960073\n",
            "La predicción es:  63.15470897349587 El valor original es de:  71.0  y el error de:  7.845291026504128\n",
            "La predicción es:  64.39429830843525 El valor original es de:  71.0  y el error de:  6.605701691564747\n",
            "La predicción es:  65.10967152521536 El valor original es de:  69.0  y el error de:  3.8903284747846385\n",
            "La predicción es:  65.10967152521536 El valor original es de:  69.0  y el error de:  3.8903284747846385\n",
            "La predicción es:  65.10967152521536 El valor original es de:  74.0  y el error de:  8.890328474784639\n",
            "La predicción es:  65.23746457775144 El valor original es de:  74.0  y el error de:  8.762535422248561\n",
            "La predicción es:  59.5583965863228 El valor original es de:  65.0  y el error de:  5.4416034136772\n",
            "La predicción es:  59.5583965863228 El valor original es de:  65.0  y el error de:  5.4416034136772\n"
          ]
        }
      ]
    },
    {
      "cell_type": "markdown",
      "source": [
        "#Ecuacion de la normal"
      ],
      "metadata": {
        "id": "v1ZJp8vHptuH"
      }
    },
    {
      "cell_type": "markdown",
      "source": [
        "Importación de DataSet de Google Drive, limpieza del dataset y visualización de datos"
      ],
      "metadata": {
        "id": "tpZU4TQlp3X6"
      }
    },
    {
      "cell_type": "code",
      "source": [
        "from google.colab import drive\n",
        "drive.mount(\"/content/drive\")\n",
        "import pandas as pd\n",
        "data = pd.read_csv('/content/drive/MyDrive/machine learning/datasets/Player_Attributes.csv', delimiter=',')\n",
        "data = data.dropna()\n",
        "data.info()"
      ],
      "metadata": {
        "colab": {
          "base_uri": "https://localhost:8080/"
        },
        "outputId": "fc8f836e-9329-457c-d4ae-cafd8e371872",
        "id": "UQX3q4rVp7gX"
      },
      "execution_count": null,
      "outputs": [
        {
          "output_type": "stream",
          "name": "stdout",
          "text": [
            "Drive already mounted at /content/drive; to attempt to forcibly remount, call drive.mount(\"/content/drive\", force_remount=True).\n",
            "<class 'pandas.core.frame.DataFrame'>\n",
            "Index: 177037 entries, 0 to 183977\n",
            "Data columns (total 42 columns):\n",
            " #   Column               Non-Null Count   Dtype  \n",
            "---  ------               --------------   -----  \n",
            " 0   id                   177037 non-null  int64  \n",
            " 1   player_fifa_api_id   177037 non-null  int64  \n",
            " 2   player_api_id        177037 non-null  int64  \n",
            " 3   date                 177037 non-null  object \n",
            " 4   overall_rating       177037 non-null  float64\n",
            " 5   potential            177037 non-null  float64\n",
            " 6   preferred_foot       177037 non-null  object \n",
            " 7   attacking_work_rate  177037 non-null  object \n",
            " 8   defensive_work_rate  177037 non-null  object \n",
            " 9   crossing             177037 non-null  float64\n",
            " 10  finishing            177037 non-null  float64\n",
            " 11  heading_accuracy     177037 non-null  float64\n",
            " 12  short_passing        177037 non-null  float64\n",
            " 13  volleys              177037 non-null  float64\n",
            " 14  dribbling            177037 non-null  float64\n",
            " 15  curve                177037 non-null  float64\n",
            " 16  free_kick_accuracy   177037 non-null  float64\n",
            " 17  long_passing         177037 non-null  float64\n",
            " 18  ball_control         177037 non-null  float64\n",
            " 19  acceleration         177037 non-null  float64\n",
            " 20  sprint_speed         177037 non-null  float64\n",
            " 21  agility              177037 non-null  float64\n",
            " 22  reactions            177037 non-null  float64\n",
            " 23  balance              177037 non-null  float64\n",
            " 24  shot_power           177037 non-null  float64\n",
            " 25  jumping              177037 non-null  float64\n",
            " 26  stamina              177037 non-null  float64\n",
            " 27  strength             177037 non-null  float64\n",
            " 28  long_shots           177037 non-null  float64\n",
            " 29  aggression           177037 non-null  float64\n",
            " 30  interceptions        177037 non-null  float64\n",
            " 31  positioning          177037 non-null  float64\n",
            " 32  vision               177037 non-null  float64\n",
            " 33  penalties            177037 non-null  float64\n",
            " 34  marking              177037 non-null  float64\n",
            " 35  standing_tackle      177037 non-null  float64\n",
            " 36  sliding_tackle       177037 non-null  float64\n",
            " 37  gk_diving            177037 non-null  float64\n",
            " 38  gk_handling          177037 non-null  float64\n",
            " 39  gk_kicking           177037 non-null  float64\n",
            " 40  gk_positioning       177037 non-null  float64\n",
            " 41  gk_reflexes          177037 non-null  float64\n",
            "dtypes: float64(35), int64(3), object(4)\n",
            "memory usage: 58.1+ MB\n"
          ]
        }
      ]
    },
    {
      "cell_type": "markdown",
      "source": [
        "Cargamos las variables x, y y m demás de tomar datos del mismo data set para predicciones"
      ],
      "metadata": {
        "id": "bZNlt16tp_A7"
      }
    },
    {
      "cell_type": "code",
      "source": [
        "X = data.iloc[:15000, [5,9,10,11,12,13,14,15,16,17]]\n",
        "y = data.iloc[:15000, 4]\n",
        "m = y.size\n",
        "\n",
        "X_predic = data.iloc[15000:15100, [5,9,10,11,12,13,14,15,16,17]]\n",
        "y_predic = data.iloc[15000:15100, 4]\n",
        "m_predic = y_predic.size"
      ],
      "metadata": {
        "id": "i57Yg-SXqBEk"
      },
      "execution_count": null,
      "outputs": []
    },
    {
      "cell_type": "markdown",
      "source": [
        "Visualización de datos"
      ],
      "metadata": {
        "id": "-wPiGn68qDSn"
      }
    },
    {
      "cell_type": "code",
      "source": [
        "print(X)\n",
        "print('------------------------------------------------------------------------------')\n",
        "print(y)\n",
        "print(m)\n",
        "print('------------------------------------------------------------------------------')\n",
        "print('------------------------------------------------------------------------------')\n",
        "print(X_predic)\n",
        "print('------------------------------------------------------------------------------')\n",
        "print(y_predic)\n",
        "print(m_predic)"
      ],
      "metadata": {
        "colab": {
          "base_uri": "https://localhost:8080/"
        },
        "outputId": "037b5ebf-c9d8-47d8-b351-2ce870960066",
        "id": "b8YPvHDmqHyt"
      },
      "execution_count": null,
      "outputs": [
        {
          "output_type": "stream",
          "name": "stdout",
          "text": [
            "       potential  crossing  finishing  heading_accuracy  short_passing  \\\n",
            "0           71.0      49.0       44.0              71.0           61.0   \n",
            "1           71.0      49.0       44.0              71.0           61.0   \n",
            "2           66.0      49.0       44.0              71.0           61.0   \n",
            "3           65.0      48.0       43.0              70.0           60.0   \n",
            "4           65.0      48.0       43.0              70.0           60.0   \n",
            "...          ...       ...        ...               ...            ...   \n",
            "15421       77.0      54.0       37.0              42.0           80.0   \n",
            "15422       74.0      53.0       36.0              41.0           80.0   \n",
            "15423       73.0      40.0       32.0              40.0           72.0   \n",
            "15424       76.0      40.0       32.0              40.0           72.0   \n",
            "15425       76.0      40.0       32.0              40.0           72.0   \n",
            "\n",
            "       volleys  dribbling  curve  free_kick_accuracy  long_passing  \n",
            "0         44.0       51.0   45.0                39.0          64.0  \n",
            "1         44.0       51.0   45.0                39.0          64.0  \n",
            "2         44.0       51.0   45.0                39.0          64.0  \n",
            "3         43.0       50.0   44.0                38.0          63.0  \n",
            "4         43.0       50.0   44.0                38.0          63.0  \n",
            "...        ...        ...    ...                 ...           ...  \n",
            "15421     42.0       61.0   64.0                42.0          67.0  \n",
            "15422     41.0       57.0   63.0                41.0          71.0  \n",
            "15423     40.0       53.0   62.0                40.0          65.0  \n",
            "15424     40.0       53.0   62.0                40.0          65.0  \n",
            "15425     40.0       53.0   62.0                40.0          65.0  \n",
            "\n",
            "[15000 rows x 10 columns]\n",
            "------------------------------------------------------------------------------\n",
            "0        67.0\n",
            "1        67.0\n",
            "2        62.0\n",
            "3        61.0\n",
            "4        61.0\n",
            "         ... \n",
            "15421    67.0\n",
            "15422    64.0\n",
            "15423    59.0\n",
            "15424    59.0\n",
            "15425    59.0\n",
            "Name: overall_rating, Length: 15000, dtype: float64\n",
            "15000\n",
            "------------------------------------------------------------------------------\n",
            "------------------------------------------------------------------------------\n",
            "       potential  crossing  finishing  heading_accuracy  short_passing  \\\n",
            "15426       69.0      72.0       55.0              47.0           75.0   \n",
            "15427       69.0      72.0       55.0              47.0           75.0   \n",
            "15428       69.0      72.0       55.0              47.0           75.0   \n",
            "15429       70.0      74.0       55.0              47.0           75.0   \n",
            "15430       72.0      74.0       55.0              47.0           81.0   \n",
            "...          ...       ...        ...               ...            ...   \n",
            "15521       75.0      22.0       22.0              27.0           32.0   \n",
            "15522       75.0      22.0       22.0              27.0           32.0   \n",
            "15523       75.0      25.0       24.0              27.0           32.0   \n",
            "15524       69.0      13.0       10.0              10.0           11.0   \n",
            "15525       69.0      13.0       10.0              10.0           11.0   \n",
            "\n",
            "       volleys  dribbling  curve  free_kick_accuracy  long_passing  \n",
            "15426     71.0       72.0   85.0                79.0          74.0  \n",
            "15427     71.0       72.0   85.0                79.0          74.0  \n",
            "15428     71.0       72.0   85.0                79.0          74.0  \n",
            "15429     71.0       73.0   85.0                83.0          74.0  \n",
            "15430     71.0       75.0   85.0                86.0          75.0  \n",
            "...        ...        ...    ...                 ...           ...  \n",
            "15521      9.0       22.0   25.0                 8.0          69.0  \n",
            "15522      9.0       22.0   25.0                 8.0          69.0  \n",
            "15523      9.0       24.0   25.0                53.0          69.0  \n",
            "15524     11.0       19.0   16.0                12.0          11.0  \n",
            "15525     11.0       19.0   16.0                12.0          11.0  \n",
            "\n",
            "[100 rows x 10 columns]\n",
            "------------------------------------------------------------------------------\n",
            "15426    69.0\n",
            "15427    69.0\n",
            "15428    69.0\n",
            "15429    70.0\n",
            "15430    72.0\n",
            "         ... \n",
            "15521    69.0\n",
            "15522    74.0\n",
            "15523    74.0\n",
            "15524    65.0\n",
            "15525    65.0\n",
            "Name: overall_rating, Length: 100, dtype: float64\n",
            "100\n"
          ]
        }
      ]
    },
    {
      "cell_type": "markdown",
      "source": [
        "Agregamos la columna de 1 x^0"
      ],
      "metadata": {
        "id": "TRtIy_SKqgam"
      }
    },
    {
      "cell_type": "code",
      "source": [
        "X = np.concatenate([np.ones((m, 1)), X], axis=1)"
      ],
      "metadata": {
        "id": "utcoF5F9qhMF"
      },
      "execution_count": null,
      "outputs": []
    },
    {
      "cell_type": "markdown",
      "source": [
        "Funcion para conseguir Theta mediante la ecuación de la Normal"
      ],
      "metadata": {
        "id": "UQRE14CVqikR"
      }
    },
    {
      "cell_type": "code",
      "source": [
        "def normalEqn(X, y):\n",
        "    theta = np.zeros(X.shape[1])\n",
        "    theta = np.dot(np.dot(np.linalg.inv(np.dot(X.T,X)),X.T),y)\n",
        "    return theta"
      ],
      "metadata": {
        "id": "uK9sT6i2qlIy"
      },
      "execution_count": null,
      "outputs": []
    },
    {
      "cell_type": "markdown",
      "source": [
        "Calculo de Theta y el costo"
      ],
      "metadata": {
        "id": "1DQ3NUBDrZnJ"
      }
    },
    {
      "cell_type": "code",
      "source": [
        "theta = normalEqn(X, y)\n",
        "print('theta: ',theta)\n",
        "print('------------------------------------------------------------------------')\n",
        "j=computeCostMulti(X, y, theta)\n",
        "print('Costo: ',j)"
      ],
      "metadata": {
        "colab": {
          "base_uri": "https://localhost:8080/"
        },
        "id": "ZVi559isrfLO",
        "outputId": "3218aaa3-543b-421d-dac9-778b42d90253"
      },
      "execution_count": null,
      "outputs": [
        {
          "output_type": "stream",
          "name": "stdout",
          "text": [
            "theta:  [ 7.12422004e+00  7.26636211e-01  4.18071447e-02  2.93402113e-03\n",
            "  5.51860516e-02  1.21179346e-02  2.73861292e-02 -8.75466715e-02\n",
            "  7.34716737e-03  3.13937786e-02  6.23878280e-02]\n",
            "------------------------------------------------------------------------\n",
            "Costo:  8.56974815446318\n"
          ]
        }
      ]
    },
    {
      "cell_type": "markdown",
      "source": [
        "Calculo de predicciones"
      ],
      "metadata": {
        "id": "T6MkIRx6sWh4"
      }
    },
    {
      "cell_type": "code",
      "source": [
        "X_regresion = np.concatenate([np.ones((m_predic, 1)), X_predic], axis=1)\n",
        "for i in range(m_predic):\n",
        "  X_array = np.array(X_regresion[i])\n",
        "  Prediccion = np.dot(X_array, theta)\n",
        "  Error = y_predic.iloc[i] - Prediccion\n",
        "  print('La predicción es: ',Prediccion,'El valor original es de: ', y_predic.iloc[i],' y el error de: ', Error)"
      ],
      "metadata": {
        "colab": {
          "base_uri": "https://localhost:8080/"
        },
        "outputId": "1c5bb50d-f258-41c2-9659-c0227d8111c7",
        "id": "wGFJkiYMsWrI"
      },
      "execution_count": null,
      "outputs": [
        {
          "output_type": "stream",
          "name": "stdout",
          "text": [
            "La predicción es:  67.2985655110232 El valor original es de:  69.0  y el error de:  1.7014344889768012\n",
            "La predicción es:  67.2985655110232 El valor original es de:  69.0  y el error de:  1.7014344889768012\n",
            "La predicción es:  67.2985655110232 El valor original es de:  69.0  y el error de:  1.7014344889768012\n",
            "La predicción es:  68.14684445391907 El valor original es de:  70.0  y el error de:  1.8531555460809273\n",
            "La predicción es:  69.65430030366473 El valor original es de:  72.0  y el error de:  2.3456996963352736\n",
            "La predicción es:  70.51783010492275 El valor original es de:  73.0  y el error de:  2.4821698950772486\n",
            "La predicción es:  74.46610055817594 El valor original es de:  73.0  y el error de:  -1.4661005581759383\n",
            "La predicción es:  71.77134562050777 El valor original es de:  71.0  y el error de:  -0.7713456205077733\n",
            "La predicción es:  71.14346431818824 El valor original es de:  67.0  y el error de:  -4.1434643181882365\n",
            "La predicción es:  71.14346431818824 El valor original es de:  67.0  y el error de:  -4.1434643181882365\n",
            "La predicción es:  73.67821321167442 El valor original es de:  70.0  y el error de:  -3.678213211674418\n",
            "La predicción es:  73.44257798927555 El valor original es de:  68.0  y el error de:  -5.442577989275549\n",
            "La predicción es:  73.44257798927555 El valor original es de:  73.0  y el error de:  -0.4425779892755486\n",
            "La predicción es:  72.52757910715434 El valor original es de:  73.0  y el error de:  0.4724208928456619\n",
            "La predicción es:  62.56539448224584 El valor original es de:  66.0  y el error de:  3.4346055177541572\n",
            "La predicción es:  61.15099518447308 El valor original es de:  64.0  y el error de:  2.849004815526918\n",
            "La predicción es:  61.87763139514596 El valor original es de:  65.0  y el error de:  3.1223686048540387\n",
            "La predicción es:  62.03064477883752 El valor original es de:  65.0  y el error de:  2.9693552211624805\n",
            "La predicción es:  58.217408185291035 El valor original es de:  61.0  y el error de:  2.782591814708965\n",
            "La predicción es:  58.217408185291035 El valor original es de:  61.0  y el error de:  2.782591814708965\n",
            "La predicción es:  58.217408185291035 El valor original es de:  61.0  y el error de:  2.782591814708965\n",
            "La predicción es:  58.217408185291035 El valor original es de:  61.0  y el error de:  2.782591814708965\n",
            "La predicción es:  66.98649239534868 El valor original es de:  72.0  y el error de:  5.013507604651323\n",
            "La predicción es:  66.98649239534868 El valor original es de:  72.0  y el error de:  5.013507604651323\n",
            "La predicción es:  67.09686449861513 El valor original es de:  72.0  y el error de:  4.903135501384867\n",
            "La predicción es:  67.11890600073025 El valor original es de:  72.0  y el error de:  4.881093999269751\n",
            "La predicción es:  67.1842278498485 El valor original es de:  72.0  y el error de:  4.815772150151503\n",
            "La predicción es:  68.68099081532642 El valor original es de:  73.0  y el error de:  4.319009184673575\n",
            "La predicción es:  68.68099081532642 El valor original es de:  73.0  y el error de:  4.319009184673575\n",
            "La predicción es:  69.4076270259993 El valor original es de:  73.0  y el error de:  3.592372974000696\n",
            "La predicción es:  69.4076270259993 El valor original es de:  73.0  y el error de:  3.592372974000696\n",
            "La predicción es:  66.43160204311096 El valor original es de:  69.0  y el error de:  2.5683979568890436\n",
            "La predicción es:  65.70789985356797 El valor original es de:  68.0  y el error de:  2.292100146432034\n",
            "La predicción es:  64.2205685935778 El valor original es de:  67.0  y el error de:  2.779431406422205\n",
            "La predicción es:  64.20589848792835 El valor original es de:  67.0  y el error de:  2.7941015120716486\n",
            "La predicción es:  64.20589848792835 El valor original es de:  67.0  y el error de:  2.7941015120716486\n",
            "La predicción es:  59.99909460758268 El valor original es de:  66.0  y el error de:  6.000905392417323\n",
            "La predicción es:  59.99909460758268 El valor original es de:  66.0  y el error de:  6.000905392417323\n",
            "La predicción es:  59.27245839690981 El valor original es de:  65.0  y el error de:  5.727541603090188\n",
            "La predicción es:  56.468913145740366 El valor original es de:  55.0  y el error de:  -1.4689131457403661\n",
            "La predicción es:  56.468913145740366 El valor original es de:  56.0  y el error de:  -0.46891314574036613\n",
            "La predicción es:  50.711623142571256 El valor original es de:  51.0  y el error de:  0.2883768574287444\n",
            "La predicción es:  50.711623142571256 El valor original es de:  51.0  y el error de:  0.2883768574287444\n",
            "La predicción es:  73.62089933665308 El valor original es de:  77.0  y el error de:  3.379100663346918\n",
            "La predicción es:  73.62089933665308 El valor original es de:  77.0  y el error de:  3.379100663346918\n",
            "La predicción es:  73.65763517351164 El valor original es de:  77.0  y el error de:  3.342364826488364\n",
            "La predicción es:  74.84053519024138 El valor original es de:  78.0  y el error de:  3.1594648097586173\n",
            "La predicción es:  75.56717140091426 El valor original es de:  79.0  y el error de:  3.432828599085738\n",
            "La predicción es:  75.56717140091426 El valor original es de:  79.0  y el error de:  3.432828599085738\n",
            "La predicción es:  74.68752180654981 El valor original es de:  78.0  y el error de:  3.3124781934501897\n",
            "La predicción es:  75.76660953697964 El valor original es de:  79.0  y el error de:  3.2333904630203563\n",
            "La predicción es:  75.76954355810953 El valor original es de:  79.0  y el error de:  3.2304564418904675\n",
            "La predicción es:  75.76954355810953 El valor original es de:  79.0  y el error de:  3.2304564418904675\n",
            "La predicción es:  75.94463690107288 El valor original es de:  79.0  y el error de:  3.055363098927117\n",
            "La predicción es:  75.01618158117321 El valor original es de:  78.0  y el error de:  2.983818418826786\n",
            "La predicción es:  76.65386116478523 El valor original es de:  80.0  y el error de:  3.3461388352147736\n",
            "La predicción es:  75.64584044699168 El valor original es de:  79.0  y el error de:  3.3541595530083157\n",
            "La predicción es:  75.66253989082298 El valor original es de:  79.0  y el error de:  3.337460109177016\n",
            "La predicción es:  76.24142645670115 El valor original es de:  80.0  y el error de:  3.7585735432988514\n",
            "La predicción es:  75.95150643913 El valor original es de:  80.0  y el error de:  4.04849356087\n",
            "La predicción es:  76.05601050013668 El valor original es de:  80.0  y el error de:  3.9439894998633207\n",
            "La predicción es:  76.05601050013668 El valor original es de:  80.0  y el error de:  3.9439894998633207\n",
            "La predicción es:  76.8341656166389 El valor original es de:  81.0  y el error de:  4.165834383361101\n",
            "La predicción es:  76.88893787496689 El valor original es de:  81.0  y el error de:  4.111062125033115\n",
            "La predicción es:  76.88893787496689 El valor original es de:  81.0  y el error de:  4.111062125033115\n",
            "La predicción es:  77.89109055050066 El valor original es de:  82.0  y el error de:  4.108909449499336\n",
            "La predicción es:  79.14529727911903 El valor original es de:  84.0  y el error de:  4.854702720880965\n",
            "La predicción es:  79.14529727911903 El valor original es de:  84.0  y el error de:  4.854702720880965\n",
            "La predicción es:  79.14529727911903 El valor original es de:  84.0  y el error de:  4.854702720880965\n",
            "La predicción es:  79.8719334897919 El valor original es de:  85.0  y el error de:  5.1280665102081\n",
            "La predicción es:  79.8719334897919 El valor original es de:  85.0  y el error de:  5.1280665102081\n",
            "La predicción es:  79.8719334897919 El valor original es de:  85.0  y el error de:  5.1280665102081\n",
            "La predicción es:  79.32384854929681 El valor original es de:  84.0  y el error de:  4.676151450703188\n",
            "La predicción es:  79.32091452816694 El valor original es de:  84.0  y el error de:  4.679085471833062\n",
            "La predicción es:  79.29352839900294 El valor original es de:  84.0  y el error de:  4.706471600997062\n",
            "La predicción es:  79.29352839900294 El valor original es de:  84.0  y el error de:  4.706471600997062\n",
            "La predicción es:  79.26299200989187 El valor original es de:  84.0  y el error de:  4.7370079901081255\n",
            "La predicción es:  80.13583002932494 El valor original es de:  85.0  y el error de:  4.864169970675064\n",
            "La predicción es:  81.26561343627829 El valor original es de:  86.0  y el error de:  4.7343865637217135\n",
            "La predicción es:  81.26561343627829 El valor original es de:  86.0  y el error de:  4.7343865637217135\n",
            "La predicción es:  81.1572673371326 El valor original es de:  84.0  y el error de:  2.8427326628674052\n",
            "La predicción es:  81.0255977313097 El valor original es de:  84.0  y el error de:  2.974402268690298\n",
            "La predicción es:  81.02860451421307 El valor original es de:  85.0  y el error de:  3.9713954857869282\n",
            "La predicción es:  80.97048444144994 El valor original es de:  85.0  y el error de:  4.0295155585500595\n",
            "La predicción es:  82.00723697346436 El valor original es de:  86.0  y el error de:  3.9927630265356413\n",
            "La predicción es:  81.38826923605887 El valor original es de:  85.0  y el error de:  3.611730763941125\n",
            "La predicción es:  77.03791163345117 El valor original es de:  82.0  y el error de:  4.9620883665488265\n",
            "La predicción es:  75.81355426903693 El valor original es de:  82.0  y el error de:  6.186445730963072\n",
            "La predicción es:  61.13190861052344 El valor original es de:  68.0  y el error de:  6.868091389476561\n",
            "La predicción es:  61.13190861052344 El valor original es de:  68.0  y el error de:  6.868091389476561\n",
            "La predicción es:  65.49172587456067 El valor original es de:  70.0  y el error de:  4.508274125439328\n",
            "La predicción es:  65.49172587456067 El valor original es de:  72.0  y el error de:  6.508274125439328\n",
            "La predicción es:  66.20315907420111 El valor original es de:  71.0  y el error de:  4.7968409257988895\n",
            "La predicción es:  66.4440010556999 El valor original es de:  71.0  y el error de:  4.5559989443001\n",
            "La predicción es:  67.54407672666808 El valor original es de:  69.0  y el error de:  1.4559232733319192\n",
            "La predicción es:  67.54407672666808 El valor original es de:  69.0  y el error de:  1.4559232733319192\n",
            "La predicción es:  67.54407672666808 El valor original es de:  74.0  y el error de:  6.455923273331919\n",
            "La predicción es:  68.91299289593574 El valor original es de:  74.0  y el error de:  5.087007104064256\n",
            "La predicción es:  58.33851625960596 El valor original es de:  65.0  y el error de:  6.66148374039404\n",
            "La predicción es:  58.33851625960596 El valor original es de:  65.0  y el error de:  6.66148374039404\n"
          ]
        }
      ]
    }
  ]
}